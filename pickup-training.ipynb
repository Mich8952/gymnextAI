{
 "cells": [
  {
   "cell_type": "code",
   "execution_count": 1,
   "id": "d08ad55b",
   "metadata": {
    "_cell_guid": "b1076dfc-b9ad-4769-8c92-a6c4dae69d19",
    "_uuid": "8f2839f25d086af736a60e9eeb907d3b93b6e0e5",
    "execution": {
     "iopub.execute_input": "2022-04-24T17:21:06.284865Z",
     "iopub.status.busy": "2022-04-24T17:21:06.283814Z",
     "iopub.status.idle": "2022-04-24T17:21:06.302254Z",
     "shell.execute_reply": "2022-04-24T17:21:06.302848Z",
     "shell.execute_reply.started": "2022-04-24T17:14:56.887615Z"
    },
    "papermill": {
     "duration": 0.068606,
     "end_time": "2022-04-24T17:21:06.303125",
     "exception": false,
     "start_time": "2022-04-24T17:21:06.234519",
     "status": "completed"
    },
    "tags": []
   },
   "outputs": [
    {
     "name": "stdout",
     "output_type": "stream",
     "text": [
      "3.7.12 | packaged by conda-forge | (default, Oct 26 2021, 06:08:53) \n",
      "[GCC 9.4.0]\n",
      "/kaggle/input/lstmfile/ckpt_.data-00000-of-00001\n",
      "/kaggle/input/lstmfile/LSTM.tflite\n",
      "/kaggle/input/lstmfile/tokenizer.pickle\n",
      "/kaggle/input/lstmfile/ckpt_.index\n",
      "/kaggle/input/lstmfile/simplified_model.h5\n",
      "/kaggle/input/lstmfile/baselineModel.h5\n",
      "/kaggle/input/lstmfile/checkpoint\n",
      "/kaggle/input/newencoded/encodedNew.csv\n",
      "/kaggle/input ['lstmfile', 'newencoded']\n",
      "/kaggle/input/lstmfile []\n",
      "/kaggle/input/newencoded []\n"
     ]
    }
   ],
   "source": [
    "#!pip list\n",
    "\n",
    "\n",
    "import sys\n",
    "print(sys.version)\n",
    "\n",
    "\n",
    "\n",
    "# This Python 3 environment comes with many helpful analytics libraries installed\n",
    "# It is defined by the kaggle/python Docker image: https://github.com/kaggle/docker-python\n",
    "# For example, here's several helpful packages to load\n",
    "import numpy as np # linear algebra\n",
    "import pandas as pd # data processing, CSV file I/O (e.g. pd.read_csv)\n",
    "\n",
    "# Input data files are available in the read-only \"../input/\" directory\n",
    "# For example, running this (by clicking run or pressing Shift+Enter) will list all files under the input directory\n",
    "\n",
    "import os\n",
    "for dirname, _, filenames in os.walk('/kaggle/input'):\n",
    "    for filename in filenames:\n",
    "        print(os.path.join(dirname, filename))\n",
    "\n",
    "# You can write up to 20GB to the current directory (/kaggle/working/) that gets preserved as output when you create a version using \"Save & Run All\" \n",
    "# You can also write temporary files to /kaggle/temp/, but they won't be saved outside of the current session\n",
    "\n",
    "\n",
    "count = 0\n",
    "for root, folders, filenames in os.walk('/kaggle/input'):\n",
    "   print(root, folders)"
   ]
  },
  {
   "cell_type": "code",
   "execution_count": 2,
   "id": "3e28db93",
   "metadata": {
    "execution": {
     "iopub.execute_input": "2022-04-24T17:21:06.359948Z",
     "iopub.status.busy": "2022-04-24T17:21:06.359232Z",
     "iopub.status.idle": "2022-04-24T17:21:06.361607Z",
     "shell.execute_reply": "2022-04-24T17:21:06.361164Z",
     "shell.execute_reply.started": "2022-04-24T17:14:56.912734Z"
    },
    "papermill": {
     "duration": 0.032466,
     "end_time": "2022-04-24T17:21:06.361717",
     "exception": false,
     "start_time": "2022-04-24T17:21:06.329251",
     "status": "completed"
    },
    "tags": []
   },
   "outputs": [],
   "source": [
    "def build_model(vocab_size, embedding_dim, rnn_units, batch_size):\n",
    "    model = tf.keras.models.Sequential()\n",
    "    model.add(tf.keras.layers.Embedding(\n",
    "        input_dim=vocab_size,\n",
    "        output_dim=embedding_dim,\n",
    "        batch_input_shape=[batch_size, None]\n",
    "    ))\n",
    "    model.add(tf.keras.layers.LSTM(\n",
    "        units=rnn_units,\n",
    "        return_sequences=True,\n",
    "        stateful=True, #look into this causing the issue potentially, originally was True\n",
    "        recurrent_initializer=tf.keras.initializers.GlorotNormal() #used to be be tf.keras.initializers.GlorotNormal() before downgradingf\n",
    "    )) # temp removed\n",
    "    model.add(tf.keras.layers.Dense(vocab_size))\n",
    "    \n",
    "    return model"
   ]
  },
  {
   "cell_type": "code",
   "execution_count": 3,
   "id": "d0024273",
   "metadata": {
    "execution": {
     "iopub.execute_input": "2022-04-24T17:21:06.445239Z",
     "iopub.status.busy": "2022-04-24T17:21:06.444434Z",
     "iopub.status.idle": "2022-04-24T17:21:11.711393Z",
     "shell.execute_reply": "2022-04-24T17:21:11.710788Z",
     "shell.execute_reply.started": "2022-04-24T17:14:56.922815Z"
    },
    "papermill": {
     "duration": 5.309996,
     "end_time": "2022-04-24T17:21:11.711566",
     "exception": false,
     "start_time": "2022-04-24T17:21:06.401570",
     "status": "completed"
    },
    "tags": []
   },
   "outputs": [],
   "source": [
    "#imports\n",
    "import numpy as np # linear algebra\n",
    "import pandas as pd # data processing, CSV file I/O (e.g. pd.read_csv)\n",
    "import tensorflow as tf # ML/DL\n",
    "import keras\n",
    "from keras.models import Sequential\n",
    "from tensorflow.keras.layers import LSTM\n",
    "from keras.layers import Activation, Dense, Dropout\n",
    "import matplotlib.pyplot as plt\n",
    "import tqdm\n",
    "import pickle\n",
    "\n",
    "#tf.compat.v1.enable_eager_execution()\n",
    "import tensorflow_addons as tfa\n",
    "#import coremltools as ct"
   ]
  },
  {
   "cell_type": "code",
   "execution_count": 4,
   "id": "7a01939c",
   "metadata": {
    "execution": {
     "iopub.execute_input": "2022-04-24T17:21:11.770632Z",
     "iopub.status.busy": "2022-04-24T17:21:11.769777Z",
     "iopub.status.idle": "2022-04-24T17:21:11.800101Z",
     "shell.execute_reply": "2022-04-24T17:21:11.800557Z",
     "shell.execute_reply.started": "2022-04-24T17:14:58.498434Z"
    },
    "papermill": {
     "duration": 0.06101,
     "end_time": "2022-04-24T17:21:11.800701",
     "exception": false,
     "start_time": "2022-04-24T17:21:11.739691",
     "status": "completed"
    },
    "tags": []
   },
   "outputs": [
    {
     "data": {
      "text/html": [
       "<div>\n",
       "<style scoped>\n",
       "    .dataframe tbody tr th:only-of-type {\n",
       "        vertical-align: middle;\n",
       "    }\n",
       "\n",
       "    .dataframe tbody tr th {\n",
       "        vertical-align: top;\n",
       "    }\n",
       "\n",
       "    .dataframe thead th {\n",
       "        text-align: right;\n",
       "    }\n",
       "</style>\n",
       "<table border=\"1\" class=\"dataframe\">\n",
       "  <thead>\n",
       "    <tr style=\"text-align: right;\">\n",
       "      <th></th>\n",
       "      <th>d/l</th>\n",
       "      <th>pu</th>\n",
       "      <th>tpu</th>\n",
       "      <th>rpu</th>\n",
       "      <th>su</th>\n",
       "      <th>tsu</th>\n",
       "      <th>rsu</th>\n",
       "      <th>sq</th>\n",
       "      <th>tsq</th>\n",
       "      <th>rsq</th>\n",
       "      <th>bp</th>\n",
       "      <th>tbp</th>\n",
       "      <th>rbp</th>\n",
       "    </tr>\n",
       "  </thead>\n",
       "  <tbody>\n",
       "    <tr>\n",
       "      <th>0</th>\n",
       "      <td>4</td>\n",
       "      <td>8</td>\n",
       "      <td>10</td>\n",
       "      <td>18</td>\n",
       "      <td>25</td>\n",
       "      <td>35</td>\n",
       "      <td>42</td>\n",
       "      <td>56</td>\n",
       "      <td>70</td>\n",
       "      <td>2</td>\n",
       "      <td>63</td>\n",
       "      <td>80</td>\n",
       "      <td>0</td>\n",
       "    </tr>\n",
       "    <tr>\n",
       "      <th>1</th>\n",
       "      <td>1</td>\n",
       "      <td>3</td>\n",
       "      <td>25</td>\n",
       "      <td>28</td>\n",
       "      <td>3</td>\n",
       "      <td>15</td>\n",
       "      <td>61</td>\n",
       "      <td>7</td>\n",
       "      <td>50</td>\n",
       "      <td>6</td>\n",
       "      <td>6</td>\n",
       "      <td>50</td>\n",
       "      <td>25</td>\n",
       "    </tr>\n",
       "    <tr>\n",
       "      <th>2</th>\n",
       "      <td>2</td>\n",
       "      <td>21</td>\n",
       "      <td>55</td>\n",
       "      <td>19</td>\n",
       "      <td>24</td>\n",
       "      <td>70</td>\n",
       "      <td>10</td>\n",
       "      <td>10</td>\n",
       "      <td>30</td>\n",
       "      <td>2</td>\n",
       "      <td>13</td>\n",
       "      <td>40</td>\n",
       "      <td>27</td>\n",
       "    </tr>\n",
       "    <tr>\n",
       "      <th>3</th>\n",
       "      <td>2</td>\n",
       "      <td>12</td>\n",
       "      <td>30</td>\n",
       "      <td>45</td>\n",
       "      <td>12</td>\n",
       "      <td>35</td>\n",
       "      <td>6</td>\n",
       "      <td>8</td>\n",
       "      <td>25</td>\n",
       "      <td>7</td>\n",
       "      <td>28</td>\n",
       "      <td>80</td>\n",
       "      <td>0</td>\n",
       "    </tr>\n",
       "    <tr>\n",
       "      <th>4</th>\n",
       "      <td>4</td>\n",
       "      <td>11</td>\n",
       "      <td>15</td>\n",
       "      <td>53</td>\n",
       "      <td>12</td>\n",
       "      <td>15</td>\n",
       "      <td>5</td>\n",
       "      <td>20</td>\n",
       "      <td>25</td>\n",
       "      <td>36</td>\n",
       "      <td>48</td>\n",
       "      <td>60</td>\n",
       "      <td>17</td>\n",
       "    </tr>\n",
       "  </tbody>\n",
       "</table>\n",
       "</div>"
      ],
      "text/plain": [
       "   d/l  pu  tpu  rpu  su  tsu  rsu  sq  tsq  rsq  bp  tbp  rbp\n",
       "0    4   8   10   18  25   35   42  56   70    2  63   80    0\n",
       "1    1   3   25   28   3   15   61   7   50    6   6   50   25\n",
       "2    2  21   55   19  24   70   10  10   30    2  13   40   27\n",
       "3    2  12   30   45  12   35    6   8   25    7  28   80    0\n",
       "4    4  11   15   53  12   15    5  20   25   36  48   60   17"
      ]
     },
     "execution_count": 4,
     "metadata": {},
     "output_type": "execute_result"
    }
   ],
   "source": [
    "#try: #for recursive model training\n",
    "#    df = pd.read_csv(os.path.join('./WORKING'))\n",
    "#    print('Wokrgin')\n",
    "#except:\n",
    "df = pd.read_csv(os.path.join('../input/newencoded/encodedNew.csv'))\n",
    "#OG DATAFRAME\n",
    "df.head()"
   ]
  },
  {
   "cell_type": "code",
   "execution_count": 5,
   "id": "8dcb3292",
   "metadata": {
    "execution": {
     "iopub.execute_input": "2022-04-24T17:21:11.879801Z",
     "iopub.status.busy": "2022-04-24T17:21:11.875215Z",
     "iopub.status.idle": "2022-04-24T17:21:11.882196Z",
     "shell.execute_reply": "2022-04-24T17:21:11.881771Z",
     "shell.execute_reply.started": "2022-04-24T17:14:58.521065Z"
    },
    "papermill": {
     "duration": 0.05524,
     "end_time": "2022-04-24T17:21:11.882297",
     "exception": false,
     "start_time": "2022-04-24T17:21:11.827057",
     "status": "completed"
    },
    "tags": []
   },
   "outputs": [],
   "source": [
    "import random\n",
    "\n",
    "def alterRange(pu,tpu): #THE MODEL DOESNT CONTAIN ALL THE VOCAB WE ARE ASKING IT TO, EITHER MAP TO CLOSEST VOCAB OR RETAIN THE MOBEL ON MORE POSSIBLE NUMBER\n",
    "    mul = pu/tpu\n",
    "    alterMul = mul + 1.0 #should be 0.03 but ill make it 0.5 for now\n",
    "    pu = alterMul * tpu  \n",
    "    return int(float(pu))\n",
    "\n",
    "\n",
    "def generateAction(diffLevel):\n",
    "    if diffLevel == 5: \n",
    "        multiplier = random.uniform(0.9,1)\n",
    "        tpa = random.randrange(10,80,5)\n",
    "        numActions = int(tpa * multiplier)\n",
    "        rpa = random.randrange(0,80-int(tpa))\n",
    "    elif diffLevel == 4: \n",
    "        multiplier = random.uniform(0.7,0.8)\n",
    "        tpa = random.randrange(10,80,5)\n",
    "        numActions = int(tpa * multiplier)\n",
    "        rpa = random.randrange(0,80-int(tpa))\n",
    "        rpa = random.randrange(0,80-int(tpa))\n",
    "    elif diffLevel == 3: \n",
    "        multiplier = random.uniform(0.5,0.6)\n",
    "        tpa = random.randrange(10,80,5)\n",
    "        numActions = int(tpa * multiplier)\n",
    "        rpa = random.randrange(0,80-int(tpa))\n",
    "        rpa = random.randrange(0,80-int(tpa))\n",
    "    elif diffLevel == 2: \n",
    "        multiplier = random.uniform(0.3,0.4)\n",
    "        tpa = random.randrange(10,80,5)\n",
    "        numActions = int(tpa * multiplier)\n",
    "        rpa = random.randrange(0,80-int(tpa))\n",
    "        rpa = random.randrange(0,80-int(tpa))\n",
    "    elif diffLevel == 1: \n",
    "        multiplier = random.uniform(0.1,0.2)\n",
    "        tpa = random.randrange(10,80,5)\n",
    "        numActions = int(tpa * multiplier)\n",
    "        rpa = random.randrange(0,80-int(tpa))\n",
    "    return tpa,numActions,rpa\n",
    "\n",
    "def generateExamples(diffLevel, alter=False):\n",
    "    if diffLevel == 5: \n",
    "        tpu,pu,rpu = generateAction(5)\n",
    "        tsu,su,rsu = generateAction(5)\n",
    "        tsq,sq,rsq = generateAction(5)\n",
    "        tbp,bp,rbp = generateAction(5)\n",
    "        print(pu)\n",
    "        #temp\n",
    "        if(alter == True):\n",
    "            pu = alterRange(pu,tpu)\n",
    "        #temp\n",
    "        print(pu)\n",
    "        outputStr = (str(diffLevel) + \"-DL:~\" + str(pu) + \"~\" + str(tpu) + \"~\" + str(rpu) + \"~\" + str(su) + \"~\" + str(tsu) + \"~\" + str(rsu) + \"~\" + str(sq) + \"~\" + str(tsq) + \"~\" + str(rsq) + \"~\"  +  str(bp) + \"~\" + str(tbp) + \"~\" + str(rbp) + \"~\" + \"␣\" )\n",
    "        #outputStr = (str(diffLevel) + \"-DL:~\" + str(pu) + \"~\" + str(tpu) + \"~\" + str(rpu) + \"~\" + str(su) + \"~\" + str(tsu) + \"~\" + str(rsu) + \"~\" + str(sq) + \"~\" + str(tsq) + \"~\" + str(rsq) + \"~\" + \"␣\" )\n",
    "    elif diffLevel == 4: \n",
    "        tpu,pu,rpu = generateAction(4)\n",
    "        tsu,su,rsu = generateAction(4)\n",
    "        tsq,sq,rsq = generateAction(4)\n",
    "        tbp,bp,rbp = generateAction(4)\n",
    "        outputStr = (str(diffLevel) + \"-DL:~\" + str(pu) + \"~\" + str(tpu) + \"~\" + str(rpu) + \"~\" + str(su) + \"~\" + str(tsu) + \"~\" + str(rsu) + \"~\" + str(sq) + \"~\" + str(tsq) + \"~\" + str(rsq) + \"~\"  +  str(bp) + \"~\" + str(tbp) + \"~\" + str(rbp) + \"~\" + \"␣\" )\n",
    "    elif diffLevel == 3: \n",
    "        tpu,pu,rpu = generateAction(3)\n",
    "        tsu,su,rsu = generateAction(3)\n",
    "        tsq,sq,rsq = generateAction(3)\n",
    "        tbp,bp,rbp = generateAction(3)\n",
    "        outputStr = (str(diffLevel) + \"-DL:~\" + str(pu) + \"~\" + str(tpu) + \"~\" + str(rpu) + \"~\" + str(su) + \"~\" + str(tsu) + \"~\" + str(rsu) + \"~\" + str(sq) + \"~\" + str(tsq) + \"~\" + str(rsq) + \"~\"  +  str(bp) + \"~\" + str(tbp) + \"~\" + str(rbp) + \"~\" + \"␣\" )\n",
    "    elif diffLevel == 2: \n",
    "        tpu,pu,rpu = generateAction(2)\n",
    "        tsu,su,rsu = generateAction(2)\n",
    "        tsq,sq,rsq = generateAction(2)\n",
    "        tbp,bp,rbp = generateAction(2)\n",
    "        outputStr = (str(diffLevel) + \"-DL:~\" + str(pu) + \"~\" + str(tpu) + \"~\" + str(rpu) + \"~\" + str(su) + \"~\" + str(tsu) + \"~\" + str(rsu) + \"~\" + str(sq) + \"~\" + str(tsq) + \"~\" + str(rsq) + \"~\"  +  str(bp) + \"~\" + str(tbp) + \"~\" + str(rbp) + \"~\" + \"␣\" )\n",
    "    elif diffLevel == 1: \n",
    "        tpu,pu,rpu = generateAction(1)\n",
    "        tsu,su,rsu = generateAction(1)\n",
    "        tsq,sq,rsq = generateAction(1)\n",
    "        tbp,bp,rbp = generateAction(1)\n",
    "        outputStr = (str(diffLevel) + \"-DL:~\" + str(pu) + \"~\" + str(tpu) + \"~\" + str(rpu) + \"~\" + str(su) + \"~\" + str(tsu) + \"~\" + str(rsu) + \"~\" + str(sq) + \"~\" + str(tsq) + \"~\" + str(rsq) + \"~\"  +  str(bp) + \"~\" + str(tbp) + \"~\" + str(rbp) + \"~\" + \"␣\" )\n",
    "    return outputStr\n",
    "    \n",
    "    \n",
    "\n",
    "        \n",
    "    "
   ]
  },
  {
   "cell_type": "code",
   "execution_count": 6,
   "id": "a31c8593",
   "metadata": {
    "execution": {
     "iopub.execute_input": "2022-04-24T17:21:11.958339Z",
     "iopub.status.busy": "2022-04-24T17:21:11.953065Z",
     "iopub.status.idle": "2022-04-24T17:21:13.620023Z",
     "shell.execute_reply": "2022-04-24T17:21:13.619116Z",
     "shell.execute_reply.started": "2022-04-24T17:14:58.550816Z"
    },
    "papermill": {
     "duration": 1.713127,
     "end_time": "2022-04-24T17:21:13.620163",
     "exception": false,
     "start_time": "2022-04-24T17:21:11.907036",
     "status": "completed"
    },
    "tags": []
   },
   "outputs": [
    {
     "name": "stdout",
     "output_type": "stream",
     "text": [
      "   d/l  pu  tpu  rpu  su  tsu  rsu  sq  tsq  rsq  bp  tbp  rbp\n",
      "0    4   8   10   18  25   35   42  56   70    2  63   80    0\n",
      "1    1   3   25   28   3   15   61   7   50    6   6   50   25\n",
      "2    2  21   55   19  24   70   10  10   30    2  13   40   27\n",
      "3    2  12   30   45  12   35    6   8   25    7  28   80    0\n",
      "4    4  11   15   53  12   15    5  20   25   36  48   60   17\n",
      "      d/l  pu  tpu  rpu  su  tsu  rsu  sq  tsq  rsq  bp  tbp  rbp\n",
      "1165    5  54   55    8  52   55    9  59   65    3  69   75    4\n",
      "754     4  36   50   28  36   45   27  32   45   32  41   55   13\n",
      "1083    5  10   10   21  50   55   19  19   20   16  75   75    4\n",
      "480     1   7   55   19   9   60    8   9   70   10   7   45    3\n",
      "295     5  67   70    4  55   55   22  52   55   14  51   55   22\n"
     ]
    }
   ],
   "source": [
    "\n",
    "STOP_SIGN = \"␣\"   \n",
    "allWorkoutsString = []\n",
    "stringVocab = []\n",
    "\n",
    "#import random\n",
    "\n",
    "\n",
    "##NEW SHUFFLING TO FIX POOR EARLY PERFORMANCE\n",
    "print(df.head())\n",
    "df = df.sample(frac = 1)\n",
    "print(df.head())\n",
    "##NEW SHUFFLING TO FIX POOR EARLY PERFORMANCE\n",
    "\n",
    "for i in range(len(df)):\n",
    "    df.iloc[i][\"pu\"] = alterRange(df.iloc[i][\"pu\"],df.iloc[i][\"tpu\"]) #right now it overall makes pu way more diffiuclt\n",
    "    workout = (str(df.iloc[i][\"d/l\"]) + \"-DL:~\" + str(df.iloc[i][\"pu\"]) + \"~\" + str(df.iloc[i][\"tpu\"]) + \"~\" + str(df.iloc[i][\"rpu\"]) + \"~\" + str(df.iloc[i][\"su\"]) + \"~\" + str(df.iloc[i][\"tsu\"]) + \"~\" + str(df.iloc[i][\"rsu\"]) + \"~\" + str(df.iloc[i][\"sq\"]) + \"~\" + str(df.iloc[i][\"tsq\"]) + \"~\" + str(df.iloc[i][\"rsq\"]) + \"~\"  +  str(df.iloc[i][\"bp\"]) + \"~\" + str(df.iloc[i][\"tbp\"]) + \"~\" + str(df.iloc[i][\"rbp\"]) + \"~\" + \"␣\" )\n",
    "    allWorkoutsString.append(workout)\n",
    "    #stringVocab.append(workout)\n",
    "      \n",
    "        \n",
    "\n",
    "#df.to_csv(\"./WORKING\")\n",
    "#\n",
    "#for z in range(50):   \n",
    "    #allWorkoutsString.append(generateExamples(5,True))\n",
    "    #allWorkoutsString.append(generateExamples(4))\n",
    "    #allWorkoutsString.append(generateExamples(3))\n",
    "    #allWorkoutsString.append(generateExamples(2))\n",
    "    #allWorkoutsString.append(generateExamples(1))\n",
    "    \n",
    "#allWorkoutsString.append(generateExamples(5,True))\n",
    "\n"
   ]
  },
  {
   "cell_type": "code",
   "execution_count": 7,
   "id": "266afffc",
   "metadata": {
    "execution": {
     "iopub.execute_input": "2022-04-24T17:21:13.683988Z",
     "iopub.status.busy": "2022-04-24T17:21:13.683238Z",
     "iopub.status.idle": "2022-04-24T17:21:13.685285Z",
     "shell.execute_reply": "2022-04-24T17:21:13.685776Z",
     "shell.execute_reply.started": "2022-04-24T17:15:00.625715Z"
    },
    "papermill": {
     "duration": 0.038541,
     "end_time": "2022-04-24T17:21:13.685903",
     "exception": false,
     "start_time": "2022-04-24T17:21:13.647362",
     "status": "completed"
    },
    "tags": []
   },
   "outputs": [],
   "source": [
    "def decodeWorkout(input):    \n",
    "    c = input.split(\"~\")\n",
    "    if(len(c) == 5):\n",
    "        pushupStr = str(c[0] + \"\\n\" + c[1] + \" pushups for \" + c[2] + \" seconds with \" + c[3] + \" second rest \")\n",
    "        outputStr = (pushupStr)\n",
    "    elif(len(c) == 8):\n",
    "        pushupStr = str(c[0] + \"\\n\" + c[1] + \" pushups for \" + c[2] + \" seconds with \" + c[3] + \" second rest \")\n",
    "        situpStr = str(\"\\n\" + c[4] + \" situps for \" + c[5] + \" seconds with \" + c[6] + \" second rest \")\n",
    "        outputStr = (pushupStr + situpStr)\n",
    "    elif(len(c)==11):\n",
    "        pushupStr = str(c[0] + \"\\n\" + c[1] + \" pushups for \" + c[2] + \" seconds with \" + c[3] + \" second rest \")\n",
    "        situpStr = str(\"\\n\" + c[4] + \" situps for \" + c[5] + \" seconds with \" + c[6] + \" second rest \")\n",
    "        squatStr = str(\"\\n\" + c[7] + \" squats for \" + c[8] + \" seconds with \" + c[9] + \" second rest \")\n",
    "        outputStr = (pushupStr + situpStr + squatStr)\n",
    "    elif(len(c) == 14):\n",
    "        pushupStr = str(c[0] + \"\\n\" + c[1] + \" pushups for \" + c[2] + \" seconds with \" + c[3] + \" second rest \")\n",
    "        situpStr = str(\"\\n\" + c[4] + \" situps for \" + c[5] + \" seconds with \" + c[6] + \" second rest \")\n",
    "        squatStr = str(\"\\n\" + c[7] + \" squats for \" + c[8] + \" seconds with \" + c[9] + \" second rest \")\n",
    "        burpeeStr = str(\"\\n\" + c[10] + \" burpees for \" + c[11] + \" seconds with \" + c[12] + \" second rest \")\n",
    "        outputStr = (pushupStr + situpStr + squatStr + burpeeStr)\n",
    "    else:\n",
    "        outputStr = \"fail\"\n",
    "    \n",
    "    return outputStr\n",
    "#for i in range(15) :\n",
    "#        print(decodeWorkout(allWorkoutsString[i]))\n"
   ]
  },
  {
   "cell_type": "code",
   "execution_count": 8,
   "id": "651b9302",
   "metadata": {
    "execution": {
     "iopub.execute_input": "2022-04-24T17:21:13.748017Z",
     "iopub.status.busy": "2022-04-24T17:21:13.746332Z",
     "iopub.status.idle": "2022-04-24T17:21:13.772713Z",
     "shell.execute_reply": "2022-04-24T17:21:13.772161Z",
     "shell.execute_reply.started": "2022-04-24T17:15:00.639621Z"
    },
    "papermill": {
     "duration": 0.059026,
     "end_time": "2022-04-24T17:21:13.772833",
     "exception": false,
     "start_time": "2022-04-24T17:21:13.713807",
     "status": "completed"
    },
    "tags": []
   },
   "outputs": [
    {
     "name": "stdout",
     "output_type": "stream",
     "text": [
      "{'num_words': None, 'filters': '', 'lower': False, 'split': '', 'char_level': True, 'oov_token': None, 'document_count': 1500, 'word_counts': '{\"5\": 5707, \"-\": 1500, \"D\": 1500, \"L\": 1500, \":\": 1500, \"~\": 19500, \"2\": 4330, \"7\": 1901, \"3\": 3542, \"0\": 4869, \"1\": 4829, \"6\": 2221, \"4\": 3507, \"\\\\u2423\": 1500, \"9\": 1132, \"8\": 1554}', 'word_docs': '{\"5\": 1472, \"~\": 1500, \"L\": 1500, \"0\": 1479, \"1\": 1435, \"6\": 1182, \"-\": 1500, \"3\": 1347, \":\": 1500, \"4\": 1360, \"2\": 1406, \"7\": 1095, \"\\\\u2423\": 1500, \"D\": 1500, \"9\": 835, \"8\": 1005}', 'index_docs': '{\"2\": 1472, \"1\": 1500, \"13\": 1500, \"3\": 1479, \"4\": 1435, \"8\": 1182, \"11\": 1500, \"6\": 1347, \"14\": 1500, \"7\": 1360, \"5\": 1406, \"9\": 1095, \"15\": 1500, \"12\": 1500, \"16\": 835, \"10\": 1005}', 'index_word': '{\"1\": \"~\", \"2\": \"5\", \"3\": \"0\", \"4\": \"1\", \"5\": \"2\", \"6\": \"3\", \"7\": \"4\", \"8\": \"6\", \"9\": \"7\", \"10\": \"8\", \"11\": \"-\", \"12\": \"D\", \"13\": \"L\", \"14\": \":\", \"15\": \"\\\\u2423\", \"16\": \"9\"}', 'word_index': '{\"~\": 1, \"5\": 2, \"0\": 3, \"1\": 4, \"2\": 5, \"3\": 6, \"4\": 7, \"6\": 8, \"7\": 9, \"8\": 10, \"-\": 11, \"D\": 12, \"L\": 13, \":\": 14, \"\\\\u2423\": 15, \"9\": 16}'}\n",
      "Vectorized dataset size 1500\n",
      "[[3]]\n",
      "[[4]]\n",
      "[[5]]\n",
      "[[6]]\n",
      "[[7]]\n",
      "[[2]]\n",
      "[[8]]\n",
      "[[9]]\n",
      "[[10]]\n",
      "[[16]]\n"
     ]
    }
   ],
   "source": [
    "#encoding each of the characters into integers so the model can understand -> paying special attention to the stop_sign\n",
    "import pickle\n",
    "\n",
    "with open('../input/lstmfile/tokenizer.pickle', 'rb') as handle:\n",
    "    tokenizer = pickle.load(handle)\n",
    "\n",
    "\n",
    "print(tokenizer.get_config())\n",
    "VOCABULARY_SIZE = len(tokenizer.word_counts) + 1 \n",
    "\n",
    "dataset_vectorized = tokenizer.texts_to_sequences(allWorkoutsString)\n",
    "print('Vectorized dataset size', len(dataset_vectorized))\n",
    "\n",
    "\n",
    "for i in range(10):\n",
    "    print(tokenizer.texts_to_sequences([f\"{i}\"]))\n",
    "\n"
   ]
  },
  {
   "cell_type": "code",
   "execution_count": 9,
   "id": "1e6e36a4",
   "metadata": {
    "execution": {
     "iopub.execute_input": "2022-04-24T17:21:13.838820Z",
     "iopub.status.busy": "2022-04-24T17:21:13.835894Z",
     "iopub.status.idle": "2022-04-24T17:21:13.842343Z",
     "shell.execute_reply": "2022-04-24T17:21:13.843134Z",
     "shell.execute_reply.started": "2022-04-24T17:15:00.674269Z"
    },
    "papermill": {
     "duration": 0.041021,
     "end_time": "2022-04-24T17:21:13.843322",
     "exception": false,
     "start_time": "2022-04-24T17:21:13.802301",
     "status": "completed"
    },
    "tags": []
   },
   "outputs": [
    {
     "name": "stdout",
     "output_type": "stream",
     "text": [
      "1500\n",
      "44\n"
     ]
    }
   ],
   "source": [
    "#add padding to ensure same length --- only if all are not the sane length\n",
    "print(len(dataset_vectorized))\n",
    "maxLength = 0\n",
    "for workout_index, workout in enumerate(dataset_vectorized[:len(dataset_vectorized)]):\n",
    "    #if(len(workout)) != 167:\n",
    "    if(maxLength < len(workout)):\n",
    "        #print('Workout #{} length: {}'.format(workout_index + 1, len(workout)))\n",
    "        maxLength = len(workout)\n",
    "#padding is required\n",
    "print(maxLength)"
   ]
  },
  {
   "cell_type": "code",
   "execution_count": 10,
   "id": "8801b5de",
   "metadata": {
    "execution": {
     "iopub.execute_input": "2022-04-24T17:21:13.909430Z",
     "iopub.status.busy": "2022-04-24T17:21:13.907364Z",
     "iopub.status.idle": "2022-04-24T17:21:13.912387Z",
     "shell.execute_reply": "2022-04-24T17:21:13.913035Z",
     "shell.execute_reply.started": "2022-04-24T17:15:00.683775Z"
    },
    "papermill": {
     "duration": 0.039011,
     "end_time": "2022-04-24T17:21:13.913232",
     "exception": false,
     "start_time": "2022-04-24T17:21:13.874221",
     "status": "completed"
    },
    "tags": []
   },
   "outputs": [
    {
     "name": "stdout",
     "output_type": "stream",
     "text": [
      "5 - D L : ~ 1 0 9 ~ 5 5 ~ 8 ~ 5 2 ~ 5 5 ~ 9 ~ 5 9 ~ 6 5 ~ 3 ~ 6 9 ~ 7 5 ~ 4 ~ ␣\n"
     ]
    }
   ],
   "source": [
    "def decodeVector(vector):\n",
    "    decodedWorkout = tokenizer.sequences_to_texts([vector])[0]\n",
    "    print(decodedWorkout)\n",
    "    \n",
    "#basic test to see if the decoder is working\n",
    "decodeVector(dataset_vectorized[0])"
   ]
  },
  {
   "cell_type": "code",
   "execution_count": 11,
   "id": "6af946c1",
   "metadata": {
    "execution": {
     "iopub.execute_input": "2022-04-24T17:21:13.977788Z",
     "iopub.status.busy": "2022-04-24T17:21:13.976974Z",
     "iopub.status.idle": "2022-04-24T17:21:13.998052Z",
     "shell.execute_reply": "2022-04-24T17:21:13.997167Z",
     "shell.execute_reply.started": "2022-04-24T17:15:00.691535Z"
    },
    "papermill": {
     "duration": 0.055312,
     "end_time": "2022-04-24T17:21:13.998189",
     "exception": false,
     "start_time": "2022-04-24T17:21:13.942877",
     "status": "completed"
    },
    "tags": []
   },
   "outputs": [
    {
     "name": "stdout",
     "output_type": "stream",
     "text": [
      "5 - D L : ~ 1 0 9 ~ 5 5 ~ 8 ~ 5 2 ~ 5 5 ~ 9 ~ 5 9 ~ 6 5 ~ 3 ~ 6 9 ~ 7 5 ~ 4 ~ ␣\n"
     ]
    }
   ],
   "source": [
    "dataset_vectorized_padded_without_stops = tf.keras.preprocessing.sequence.pad_sequences(\n",
    "    dataset_vectorized,\n",
    "    padding='post',\n",
    "    truncating='post',\n",
    "    # We use -1 here and +1 in the next step to make sure\n",
    "    # that all recipes will have at least 1 stops sign at the end,\n",
    "    # since each sequence will be shifted and truncated afterwards\n",
    "    # (to generate X and Y sequences).\n",
    "    maxlen=maxLength-1,\n",
    "    #value=tokenizer.texts_to_sequences([STOP_SIGN])[0] #maybe append here again\n",
    ")\n",
    "dataset_vectorized_padded = tf.keras.preprocessing.sequence.pad_sequences(\n",
    "    dataset_vectorized_padded_without_stops,\n",
    "    padding='post',\n",
    "    truncating='post',\n",
    "    maxlen=maxLength+1,\n",
    "    #value=tokenizer.texts_to_sequences([STOP_SIGN])[0]\n",
    ")\n",
    "\n",
    "for workout_index, workout in enumerate(dataset_vectorized_padded[:len(dataset_vectorized_padded)]):\n",
    "    if(len(workout)) != maxLength+1:\n",
    "        print('Workout #{} length: {}'.format(workout_index + 1, len(workout)))\n",
    "\n",
    "#test it out\n",
    "decodeVector(dataset_vectorized_padded[0])"
   ]
  },
  {
   "cell_type": "code",
   "execution_count": 12,
   "id": "fb64a22d",
   "metadata": {
    "execution": {
     "iopub.execute_input": "2022-04-24T17:21:16.436504Z",
     "iopub.status.busy": "2022-04-24T17:21:16.137851Z",
     "iopub.status.idle": "2022-04-24T17:21:16.448188Z",
     "shell.execute_reply": "2022-04-24T17:21:16.447664Z",
     "shell.execute_reply.started": "2022-04-24T17:15:00.726640Z"
    },
    "papermill": {
     "duration": 2.422739,
     "end_time": "2022-04-24T17:21:16.448311",
     "exception": false,
     "start_time": "2022-04-24T17:21:14.025572",
     "status": "completed"
    },
    "tags": []
   },
   "outputs": [
    {
     "name": "stderr",
     "output_type": "stream",
     "text": [
      "2022-04-24 17:21:14.118189: I tensorflow/stream_executor/cuda/cuda_gpu_executor.cc:937] successful NUMA node read from SysFS had negative value (-1), but there must be at least one NUMA node, so returning NUMA node zero\n",
      "2022-04-24 17:21:14.207796: I tensorflow/stream_executor/cuda/cuda_gpu_executor.cc:937] successful NUMA node read from SysFS had negative value (-1), but there must be at least one NUMA node, so returning NUMA node zero\n",
      "2022-04-24 17:21:14.208615: I tensorflow/stream_executor/cuda/cuda_gpu_executor.cc:937] successful NUMA node read from SysFS had negative value (-1), but there must be at least one NUMA node, so returning NUMA node zero\n",
      "2022-04-24 17:21:14.211289: I tensorflow/core/platform/cpu_feature_guard.cc:142] This TensorFlow binary is optimized with oneAPI Deep Neural Network Library (oneDNN) to use the following CPU instructions in performance-critical operations:  AVX2 AVX512F FMA\n",
      "To enable them in other operations, rebuild TensorFlow with the appropriate compiler flags.\n",
      "2022-04-24 17:21:14.212561: I tensorflow/stream_executor/cuda/cuda_gpu_executor.cc:937] successful NUMA node read from SysFS had negative value (-1), but there must be at least one NUMA node, so returning NUMA node zero\n",
      "2022-04-24 17:21:14.213616: I tensorflow/stream_executor/cuda/cuda_gpu_executor.cc:937] successful NUMA node read from SysFS had negative value (-1), but there must be at least one NUMA node, so returning NUMA node zero\n",
      "2022-04-24 17:21:14.214519: I tensorflow/stream_executor/cuda/cuda_gpu_executor.cc:937] successful NUMA node read from SysFS had negative value (-1), but there must be at least one NUMA node, so returning NUMA node zero\n",
      "2022-04-24 17:21:16.128675: I tensorflow/stream_executor/cuda/cuda_gpu_executor.cc:937] successful NUMA node read from SysFS had negative value (-1), but there must be at least one NUMA node, so returning NUMA node zero\n",
      "2022-04-24 17:21:16.129494: I tensorflow/stream_executor/cuda/cuda_gpu_executor.cc:937] successful NUMA node read from SysFS had negative value (-1), but there must be at least one NUMA node, so returning NUMA node zero\n",
      "2022-04-24 17:21:16.130148: I tensorflow/stream_executor/cuda/cuda_gpu_executor.cc:937] successful NUMA node read from SysFS had negative value (-1), but there must be at least one NUMA node, so returning NUMA node zero\n",
      "2022-04-24 17:21:16.130745: I tensorflow/core/common_runtime/gpu/gpu_device.cc:1510] Created device /job:localhost/replica:0/task:0/device:GPU:0 with 15403 MB memory:  -> device: 0, name: Tesla P100-PCIE-16GB, pci bus id: 0000:00:04.0, compute capability: 6.0\n"
     ]
    }
   ],
   "source": [
    "dataset = tf.data.Dataset.from_tensor_slices(dataset_vectorized_padded)"
   ]
  },
  {
   "cell_type": "code",
   "execution_count": 13,
   "id": "37e1351a",
   "metadata": {
    "execution": {
     "iopub.execute_input": "2022-04-24T17:21:16.508620Z",
     "iopub.status.busy": "2022-04-24T17:21:16.508070Z",
     "iopub.status.idle": "2022-04-24T17:21:16.576655Z",
     "shell.execute_reply": "2022-04-24T17:21:16.577185Z",
     "shell.execute_reply.started": "2022-04-24T17:15:01.668470Z"
    },
    "papermill": {
     "duration": 0.101724,
     "end_time": "2022-04-24T17:21:16.577376",
     "exception": false,
     "start_time": "2022-04-24T17:21:16.475652",
     "status": "completed"
    },
    "tags": []
   },
   "outputs": [
    {
     "name": "stdout",
     "output_type": "stream",
     "text": [
      "<MapDataset shapes: ((44,), (44,)), types: (tf.int32, tf.int32)>\n"
     ]
    }
   ],
   "source": [
    "#split processing\n",
    "def split_input_target(workout):\n",
    "    input_text = workout[:-1]\n",
    "    target_text = workout[1:]\n",
    "    \n",
    "    return input_text, target_text\n",
    "dataset_targeted = dataset.map(split_input_target)\n",
    "print(dataset_targeted)"
   ]
  },
  {
   "cell_type": "code",
   "execution_count": 14,
   "id": "464b988a",
   "metadata": {
    "execution": {
     "iopub.execute_input": "2022-04-24T17:21:16.638924Z",
     "iopub.status.busy": "2022-04-24T17:21:16.638220Z",
     "iopub.status.idle": "2022-04-24T17:21:16.640046Z",
     "shell.execute_reply": "2022-04-24T17:21:16.640822Z",
     "shell.execute_reply.started": "2022-04-24T17:15:01.854859Z"
    },
    "papermill": {
     "duration": 0.035732,
     "end_time": "2022-04-24T17:21:16.640945",
     "exception": false,
     "start_time": "2022-04-24T17:21:16.605213",
     "status": "completed"
    },
    "tags": []
   },
   "outputs": [],
   "source": [
    "def loss(labels, logits):\n",
    "    entropy = tf.keras.losses.sparse_categorical_crossentropy(\n",
    "      y_true=labels,\n",
    "      y_pred=logits,\n",
    "      from_logits=True\n",
    "    )\n",
    "    \n",
    "    return entropy\n",
    "#compile\n",
    "\n",
    "adam_optimizer = tf.keras.optimizers.Adam(learning_rate=0.001) #used to be 0.001 which worked much better\n",
    "\n",
    "\n",
    "early_stopping_callback = tf.keras.callbacks.EarlyStopping(\n",
    "    patience=5,\n",
    "    monitor='loss',\n",
    "    restore_best_weights=True,\n",
    "    verbose=1\n",
    ")"
   ]
  },
  {
   "cell_type": "code",
   "execution_count": 15,
   "id": "3b5f5ccd",
   "metadata": {
    "execution": {
     "iopub.execute_input": "2022-04-24T17:21:16.699243Z",
     "iopub.status.busy": "2022-04-24T17:21:16.698640Z",
     "iopub.status.idle": "2022-04-24T17:21:16.759949Z",
     "shell.execute_reply": "2022-04-24T17:21:16.759516Z",
     "shell.execute_reply.started": "2022-04-24T17:15:01.863715Z"
    },
    "papermill": {
     "duration": 0.092266,
     "end_time": "2022-04-24T17:21:16.760058",
     "exception": false,
     "start_time": "2022-04-24T17:21:16.667792",
     "status": "completed"
    },
    "tags": []
   },
   "outputs": [],
   "source": [
    "# Create a checkpoints directory. TO SAVE AND CONTINUE TRAINING\n",
    "checkpoint_dir = 'tmp/checkpoints'\n",
    "os.makedirs(checkpoint_dir, exist_ok=True)\n",
    "checkpoint_prefix = os.path.join(checkpoint_dir, 'ckpt_') #used to be ckpt_{epoch}, got rid due to space issues on kaggle\n",
    "checkpoint_callback=tf.keras.callbacks.ModelCheckpoint(\n",
    "    filepath=checkpoint_prefix,\n",
    "    save_weights_only=True\n",
    ")\n",
    "\n",
    "tqdm_callback = tfa.callbacks.TQDMProgressBar()"
   ]
  },
  {
   "cell_type": "code",
   "execution_count": 16,
   "id": "0ab71906",
   "metadata": {
    "execution": {
     "iopub.execute_input": "2022-04-24T17:21:16.819601Z",
     "iopub.status.busy": "2022-04-24T17:21:16.818782Z",
     "iopub.status.idle": "2022-04-24T17:21:18.093557Z",
     "shell.execute_reply": "2022-04-24T17:21:18.093050Z",
     "shell.execute_reply.started": "2022-04-24T17:15:01.912036Z"
    },
    "papermill": {
     "duration": 1.306442,
     "end_time": "2022-04-24T17:21:18.093692",
     "exception": false,
     "start_time": "2022-04-24T17:21:16.787250",
     "status": "completed"
    },
    "tags": []
   },
   "outputs": [],
   "source": [
    "\n",
    "def loss(labels, logits):\n",
    "    entropy = tf.keras.losses.sparse_categorical_crossentropy(\n",
    "      y_true=labels,\n",
    "      y_pred=logits,\n",
    "      from_logits=True\n",
    "    )\n",
    "    \n",
    "    return entropy\n",
    "\n",
    "\n",
    "model = keras.models.load_model(\n",
    "    \"../input/lstmfile/baselineModel.h5\", custom_objects={\"loss\": loss}\n",
    ")\n",
    "\n",
    "\n",
    "#model = keras.models.load_model(\"../input/lstmfile/baselineModel.h5\")\n",
    "\n",
    "\n",
    "model.compile(\n",
    "    optimizer=adam_optimizer,\n",
    "    loss=loss\n",
    ")\n",
    "\n"
   ]
  },
  {
   "cell_type": "code",
   "execution_count": 17,
   "id": "11f6bf69",
   "metadata": {
    "execution": {
     "iopub.execute_input": "2022-04-24T17:21:18.153623Z",
     "iopub.status.busy": "2022-04-24T17:21:18.153035Z",
     "iopub.status.idle": "2022-04-24T17:21:18.164196Z",
     "shell.execute_reply": "2022-04-24T17:21:18.163604Z",
     "shell.execute_reply.started": "2022-04-24T17:15:03.292469Z"
    },
    "papermill": {
     "duration": 0.042632,
     "end_time": "2022-04-24T17:21:18.164353",
     "exception": false,
     "start_time": "2022-04-24T17:21:18.121721",
     "status": "completed"
    },
    "tags": []
   },
   "outputs": [
    {
     "name": "stdout",
     "output_type": "stream",
     "text": [
      "<RepeatDataset shapes: ((64, 44), (64, 44)), types: (tf.int32, tf.int32)>\n"
     ]
    }
   ],
   "source": [
    "# Batch size.\n",
    "BATCH_SIZE = 64\n",
    "# Buffer size to shuffle the dataset (TF data is designed to work\n",
    "# with possibly infinite sequences, so it doesn't attempt to shuffle\n",
    "# the entire sequence in memory. Instead, it maintains a buffer in\n",
    "# which it shuffles elements).\n",
    "SHUFFLE_BUFFER_SIZE = 1000\n",
    "dataset_train = dataset_targeted \\\n",
    "  .shuffle(SHUFFLE_BUFFER_SIZE) \\\n",
    "  .batch(BATCH_SIZE, drop_remainder=True) \\\n",
    "  .repeat()\n",
    "print(dataset_train)"
   ]
  },
  {
   "cell_type": "code",
   "execution_count": 18,
   "id": "092855af",
   "metadata": {
    "execution": {
     "iopub.execute_input": "2022-04-24T17:21:18.228399Z",
     "iopub.status.busy": "2022-04-24T17:21:18.227498Z",
     "iopub.status.idle": "2022-04-24T17:21:18.231287Z",
     "shell.execute_reply": "2022-04-24T17:21:18.231833Z",
     "shell.execute_reply.started": "2022-04-24T17:15:03.306644Z"
    },
    "papermill": {
     "duration": 0.036674,
     "end_time": "2022-04-24T17:21:18.232004",
     "exception": false,
     "start_time": "2022-04-24T17:21:18.195330",
     "status": "completed"
    },
    "tags": []
   },
   "outputs": [
    {
     "name": "stdout",
     "output_type": "stream",
     "text": [
      "EPOCHS:           3\n",
      "INITIAL_EPOCH:    1\n",
      "STEPS_PER_EPOCH:  23.4375\n"
     ]
    }
   ],
   "source": [
    "#const\n",
    "EPOCHS = 3 #5 seemed to work well\n",
    "INITIAL_EPOCH = 1\n",
    "STEPS_PER_EPOCH = len(allWorkoutsString) / BATCH_SIZE\n",
    "print('EPOCHS:          ', EPOCHS) \n",
    "print('INITIAL_EPOCH:   ', INITIAL_EPOCH)\n",
    "print('STEPS_PER_EPOCH: ', STEPS_PER_EPOCH) #default was 1500"
   ]
  },
  {
   "cell_type": "code",
   "execution_count": 19,
   "id": "17a43251",
   "metadata": {
    "execution": {
     "iopub.execute_input": "2022-04-24T17:21:18.294391Z",
     "iopub.status.busy": "2022-04-24T17:21:18.293614Z",
     "iopub.status.idle": "2022-04-24T17:21:23.129664Z",
     "shell.execute_reply": "2022-04-24T17:21:23.129134Z",
     "shell.execute_reply.started": "2022-04-24T17:15:03.314743Z"
    },
    "papermill": {
     "duration": 4.869554,
     "end_time": "2022-04-24T17:21:23.129805",
     "exception": false,
     "start_time": "2022-04-24T17:21:18.260251",
     "status": "completed"
    },
    "tags": []
   },
   "outputs": [
    {
     "name": "stdout",
     "output_type": "stream",
     "text": [
      "Epoch 2/3\n"
     ]
    },
    {
     "name": "stderr",
     "output_type": "stream",
     "text": [
      "2022-04-24 17:21:19.357628: I tensorflow/compiler/mlir/mlir_graph_optimization_pass.cc:185] None of the MLIR Optimization Passes are enabled (registered 2)\n",
      "2022-04-24 17:21:20.465183: I tensorflow/stream_executor/cuda/cuda_dnn.cc:369] Loaded cuDNN version 8005\n"
     ]
    },
    {
     "name": "stdout",
     "output_type": "stream",
     "text": [
      "23/23 [==============================] - 4s 27ms/step - loss: 0.9853\n",
      "Epoch 3/3\n",
      "23/23 [==============================] - 1s 27ms/step - loss: 0.3746\n"
     ]
    }
   ],
   "source": [
    "history = model.fit(\n",
    "    x=dataset_train,\n",
    "    epochs=EPOCHS,\n",
    "    steps_per_epoch=STEPS_PER_EPOCH,\n",
    "    initial_epoch=INITIAL_EPOCH,\n",
    "    callbacks=[\n",
    "        checkpoint_callback,\n",
    "        #tqdm_callback\n",
    "       # early_stopping_callback #we want to overfit this so get rid of early stopping\n",
    "    ]\n",
    ")"
   ]
  },
  {
   "cell_type": "code",
   "execution_count": 20,
   "id": "bc2d2077",
   "metadata": {
    "execution": {
     "iopub.execute_input": "2022-04-24T17:21:23.208578Z",
     "iopub.status.busy": "2022-04-24T17:21:23.207891Z",
     "iopub.status.idle": "2022-04-24T17:21:23.210079Z",
     "shell.execute_reply": "2022-04-24T17:21:23.210466Z",
     "shell.execute_reply.started": "2022-04-24T17:15:06.716837Z"
    },
    "papermill": {
     "duration": 0.044852,
     "end_time": "2022-04-24T17:21:23.210623",
     "exception": false,
     "start_time": "2022-04-24T17:21:23.165771",
     "status": "completed"
    },
    "tags": []
   },
   "outputs": [],
   "source": [
    "def generate_text(model, start_string, num_generate = 1000, temperature=1.0):\n",
    "    # Evaluation step (generating text using the learned model)\n",
    "\n",
    "    padded_start_string = start_string\n",
    "    # Converting our start string to numbers (vectorizing).\n",
    "    input_indices = np.array(tokenizer.texts_to_sequences([padded_start_string]))\n",
    "    # Empty string to store our results.\n",
    "    text_generated = []\n",
    "    # Here batch size == 1.\n",
    "   # model.reset_states()\n",
    "    for char_index in range(num_generate):\n",
    "        predictions = model(input_indices)\n",
    "        # remove the batch dimension\n",
    "        predictions = tf.squeeze(predictions, 0)\n",
    "        # Using a categorical distribution to predict the character returned by the model.\n",
    "        predictions = predictions / temperature\n",
    "        predicted_id = tf.random.categorical(\n",
    "            predictions,\n",
    "            num_samples=1\n",
    "        )[-1, 0].numpy()\n",
    "        # We pass the predicted character as the next input to the model\n",
    "        # along with the previous hidden state.\n",
    "        input_indices = tf.expand_dims([predicted_id], 0)\n",
    "\n",
    "        next_character = tokenizer.sequences_to_texts(input_indices.numpy())[0]\n",
    "        text_generated.append(next_character)\n",
    "\n",
    "       # output = ''.join(text_generated)\n",
    "\n",
    "       # output = decodeWorkout(output)\n",
    "\n",
    "    return (padded_start_string + ''.join(text_generated))"
   ]
  },
  {
   "cell_type": "code",
   "execution_count": 21,
   "id": "a8af8ead",
   "metadata": {
    "execution": {
     "iopub.execute_input": "2022-04-24T17:21:23.288050Z",
     "iopub.status.busy": "2022-04-24T17:21:23.287286Z",
     "iopub.status.idle": "2022-04-24T17:21:24.100852Z",
     "shell.execute_reply": "2022-04-24T17:21:24.100305Z",
     "shell.execute_reply.started": "2022-04-24T17:15:06.727507Z"
    },
    "papermill": {
     "duration": 0.855131,
     "end_time": "2022-04-24T17:21:24.100982",
     "exception": false,
     "start_time": "2022-04-24T17:21:23.245851",
     "status": "completed"
    },
    "tags": []
   },
   "outputs": [
    {
     "name": "stdout",
     "output_type": "stream",
     "text": [
      "Model: \"sequential\"\n",
      "_________________________________________________________________\n",
      "Layer (type)                 Output Shape              Param #   \n",
      "=================================================================\n",
      "embedding (Embedding)        (1, None, 256)            4352      \n",
      "_________________________________________________________________\n",
      "lstm (LSTM)                  (1, None, 1024)           5246976   \n",
      "_________________________________________________________________\n",
      "dense (Dense)                (1, None, 17)             17425     \n",
      "=================================================================\n",
      "Total params: 5,268,753\n",
      "Trainable params: 5,268,753\n",
      "Non-trainable params: 0\n",
      "_________________________________________________________________\n"
     ]
    }
   ],
   "source": [
    "vocab_size=VOCABULARY_SIZE\n",
    "embedding_dim=256\n",
    "rnn_units=1024\n",
    "\n",
    "simplified_batch_size = 1\n",
    "model_simplified = build_model(vocab_size, embedding_dim, rnn_units, simplified_batch_size)\n",
    "model_simplified.load_weights(tf.train.latest_checkpoint(checkpoint_dir))\n",
    "model_simplified.build(tf.TensorShape([simplified_batch_size, None]))\n",
    "model_simplified.summary()\n",
    "nonTrainedModel = keras.models.load_model(\"../input/lstmfile/simplified_model.h5\")"
   ]
  },
  {
   "cell_type": "code",
   "execution_count": 22,
   "id": "1f3a1d29",
   "metadata": {
    "execution": {
     "iopub.execute_input": "2022-04-24T17:21:24.192141Z",
     "iopub.status.busy": "2022-04-24T17:21:24.191282Z",
     "iopub.status.idle": "2022-04-24T17:21:24.500667Z",
     "shell.execute_reply": "2022-04-24T17:21:24.501665Z",
     "shell.execute_reply.started": "2022-04-24T17:15:07.391085Z"
    },
    "papermill": {
     "duration": 0.36378,
     "end_time": "2022-04-24T17:21:24.501866",
     "exception": false,
     "start_time": "2022-04-24T17:21:24.138086",
     "status": "completed"
    },
    "tags": []
   },
   "outputs": [
    {
     "name": "stdout",
     "output_type": "stream",
     "text": [
      "5-DL:~104~65~13~20~20~59~15~15~41~57~60~13~␣\n",
      "5-DL:\n",
      "104 pushups for 65 seconds with 13 second rest \n",
      "20 situps for 20 seconds with 59 second rest \n",
      "15 squats for 15 seconds with 41 second rest \n",
      "57 burpees for 60 seconds with 13 second rest \n"
     ]
    }
   ],
   "source": [
    "output = (generate_text(model_simplified, '5-DL:', num_generate = maxLength, temperature=1.0)) #make sure you pass it model_simplified\n",
    "print(output)\n",
    "print(decodeWorkout(output))\n",
    "\n",
    "#allWorkoutsString.append(\"5-DL:~60~50~28~14~15~17~15~15~36~34~35~5~␣\")\n",
    "#allWorkoutsString.append(\"5-DL:~40~30~6~10~10~5~44~45~6~41~45~16~␣\")\n",
    "#allWorkoutsString.append(\"5-DL:~75~65~9~24~25~45~41~45~34~72~80~0~␣\")\n",
    "#allWorkoutsString.append(\"5-DL:~85~70~0~55~55~3~33~35~23~30~30~34~␣\")\n",
    "#allWorkoutsString.append(\"5-DL:~60~50~22~68~75~4~63~70~6~14~15~33~␣\")"
   ]
  },
  {
   "cell_type": "code",
   "execution_count": 23,
   "id": "cce78124",
   "metadata": {
    "execution": {
     "iopub.execute_input": "2022-04-24T17:21:24.635229Z",
     "iopub.status.busy": "2022-04-24T17:21:24.633688Z",
     "iopub.status.idle": "2022-04-24T17:21:24.921914Z",
     "shell.execute_reply": "2022-04-24T17:21:24.922938Z",
     "shell.execute_reply.started": "2022-04-24T17:15:07.600648Z"
    },
    "papermill": {
     "duration": 0.360233,
     "end_time": "2022-04-24T17:21:24.923137",
     "exception": false,
     "start_time": "2022-04-24T17:21:24.562904",
     "status": "completed"
    },
    "tags": []
   },
   "outputs": [
    {
     "name": "stdout",
     "output_type": "stream",
     "text": [
      "4-DL:~20~10~55~29~40~27~18~30~21~12~15~12~␣\n",
      "4-DL:\n",
      "20 pushups for 10 seconds with 55 second rest \n",
      "29 situps for 40 seconds with 27 second rest \n",
      "18 squats for 30 seconds with 21 second rest \n",
      "12 burpees for 15 seconds with 12 second rest \n"
     ]
    }
   ],
   "source": [
    "output = (generate_text(model_simplified, '4-DL:', num_generate = 43, temperature=1.0)) #make sure you pass it model_simplified\n",
    "print(output)\n",
    "print(decodeWorkout(output))"
   ]
  },
  {
   "cell_type": "code",
   "execution_count": 24,
   "id": "2a2aa8d3",
   "metadata": {
    "execution": {
     "iopub.execute_input": "2022-04-24T17:21:25.056045Z",
     "iopub.status.busy": "2022-04-24T17:21:25.051858Z",
     "iopub.status.idle": "2022-04-24T17:21:25.314659Z",
     "shell.execute_reply": "2022-04-24T17:21:25.315678Z",
     "shell.execute_reply.started": "2022-04-24T17:15:07.801438Z"
    },
    "papermill": {
     "duration": 0.331918,
     "end_time": "2022-04-24T17:21:25.315882",
     "exception": false,
     "start_time": "2022-04-24T17:21:24.983964",
     "status": "completed"
    },
    "tags": []
   },
   "outputs": [
    {
     "name": "stdout",
     "output_type": "stream",
     "text": [
      "3-DL:~42~60~5~12~20~28~47~80~0~39~65~11~␣\n",
      "3-DL:\n",
      "42 pushups for 60 seconds with 5 second rest \n",
      "12 situps for 20 seconds with 28 second rest \n",
      "47 squats for 80 seconds with 0 second rest \n",
      "39 burpees for 65 seconds with 11 second rest \n"
     ]
    }
   ],
   "source": [
    "output = (generate_text(model_simplified, '3-DL:', num_generate = maxLength, temperature=1.0)) #make sure you pass it model_simplified\n",
    "print(output)\n",
    "print(decodeWorkout(output))\n"
   ]
  },
  {
   "cell_type": "code",
   "execution_count": 25,
   "id": "2ec9497b",
   "metadata": {
    "execution": {
     "iopub.execute_input": "2022-04-24T17:21:25.423677Z",
     "iopub.status.busy": "2022-04-24T17:21:25.422855Z",
     "iopub.status.idle": "2022-04-24T17:21:25.649731Z",
     "shell.execute_reply": "2022-04-24T17:21:25.650148Z",
     "shell.execute_reply.started": "2022-04-24T17:15:08.011849Z"
    },
    "papermill": {
     "duration": 0.272239,
     "end_time": "2022-04-24T17:21:25.650294",
     "exception": false,
     "start_time": "2022-04-24T17:21:25.378055",
     "status": "completed"
    },
    "tags": []
   },
   "outputs": [
    {
     "name": "stdout",
     "output_type": "stream",
     "text": [
      "2-DL:~80~75~3~11~35~17~12~30~2~␣\n",
      "2-DL:\n",
      "80 pushups for 75 seconds with 3 second rest \n",
      "11 situps for 35 seconds with 17 second rest \n",
      "12 squats for 30 seconds with 2 second rest \n"
     ]
    }
   ],
   "source": [
    "output = (generate_text(model_simplified, '2-DL:', num_generate = maxLength, temperature=1.0)) #make sure you pass it model_simplified\n",
    "print(output)\n",
    "print(decodeWorkout(output))"
   ]
  },
  {
   "cell_type": "code",
   "execution_count": 26,
   "id": "8b7131a8",
   "metadata": {
    "execution": {
     "iopub.execute_input": "2022-04-24T17:21:25.729048Z",
     "iopub.status.busy": "2022-04-24T17:21:25.726278Z",
     "iopub.status.idle": "2022-04-24T17:21:25.928757Z",
     "shell.execute_reply": "2022-04-24T17:21:25.928210Z",
     "shell.execute_reply.started": "2022-04-24T17:15:08.215659Z"
    },
    "papermill": {
     "duration": 0.241703,
     "end_time": "2022-04-24T17:21:25.928907",
     "exception": false,
     "start_time": "2022-04-24T17:21:25.687204",
     "status": "completed"
    },
    "tags": []
   },
   "outputs": [
    {
     "name": "stdout",
     "output_type": "stream",
     "text": [
      "1-DL:~54~50~20~3~25~53~9~50~7~7~30~25~␣\n",
      "1-DL:\n",
      "54 pushups for 50 seconds with 20 second rest \n",
      "3 situps for 25 seconds with 53 second rest \n",
      "9 squats for 50 seconds with 7 second rest \n",
      "7 burpees for 30 seconds with 25 second rest \n"
     ]
    }
   ],
   "source": [
    "output = (generate_text(model_simplified, '1-DL:', num_generate = maxLength, temperature=1.0)) #make sure you pass it model_simplified\n",
    "print(output)\n",
    "print(decodeWorkout(output))"
   ]
  },
  {
   "cell_type": "code",
   "execution_count": 27,
   "id": "ae469883",
   "metadata": {
    "execution": {
     "iopub.execute_input": "2022-04-24T17:21:26.007946Z",
     "iopub.status.busy": "2022-04-24T17:21:26.007369Z",
     "iopub.status.idle": "2022-04-24T17:21:26.062800Z",
     "shell.execute_reply": "2022-04-24T17:21:26.061898Z",
     "shell.execute_reply.started": "2022-04-24T17:15:08.417646Z"
    },
    "papermill": {
     "duration": 0.096628,
     "end_time": "2022-04-24T17:21:26.062943",
     "exception": false,
     "start_time": "2022-04-24T17:21:25.966315",
     "status": "completed"
    },
    "tags": []
   },
   "outputs": [],
   "source": [
    "import shutil\n",
    "\n",
    "shutil.rmtree('/tmp')\n",
    "\n",
    "model_simplified.save(\"simplified_modelMOD.h5\")"
   ]
  },
  {
   "cell_type": "code",
   "execution_count": null,
   "id": "a20749fe",
   "metadata": {
    "papermill": {
     "duration": 0.037613,
     "end_time": "2022-04-24T17:21:26.138513",
     "exception": false,
     "start_time": "2022-04-24T17:21:26.100900",
     "status": "completed"
    },
    "tags": []
   },
   "outputs": [],
   "source": []
  }
 ],
 "metadata": {
  "kernelspec": {
   "display_name": "Python 3",
   "language": "python",
   "name": "python3"
  },
  "language_info": {
   "codemirror_mode": {
    "name": "ipython",
    "version": 3
   },
   "file_extension": ".py",
   "mimetype": "text/x-python",
   "name": "python",
   "nbconvert_exporter": "python",
   "pygments_lexer": "ipython3",
   "version": "3.7.12"
  },
  "papermill": {
   "default_parameters": {},
   "duration": 31.254065,
   "end_time": "2022-04-24T17:21:29.632237",
   "environment_variables": {},
   "exception": null,
   "input_path": "__notebook__.ipynb",
   "output_path": "__notebook__.ipynb",
   "parameters": {},
   "start_time": "2022-04-24T17:20:58.378172",
   "version": "2.3.3"
  }
 },
 "nbformat": 4,
 "nbformat_minor": 5
}
