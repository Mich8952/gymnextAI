{
 "cells": [
  {
   "cell_type": "code",
   "execution_count": 1,
   "id": "5968facf",
   "metadata": {
    "_cell_guid": "b1076dfc-b9ad-4769-8c92-a6c4dae69d19",
    "_uuid": "8f2839f25d086af736a60e9eeb907d3b93b6e0e5",
    "execution": {
     "iopub.execute_input": "2022-04-24T20:59:21.241159Z",
     "iopub.status.busy": "2022-04-24T20:59:21.239587Z",
     "iopub.status.idle": "2022-04-24T20:59:21.266494Z",
     "shell.execute_reply": "2022-04-24T20:59:21.265829Z",
     "shell.execute_reply.started": "2022-04-24T20:57:21.521979Z"
    },
    "papermill": {
     "duration": 0.056217,
     "end_time": "2022-04-24T20:59:21.266676",
     "exception": false,
     "start_time": "2022-04-24T20:59:21.210459",
     "status": "completed"
    },
    "tags": []
   },
   "outputs": [
    {
     "name": "stdout",
     "output_type": "stream",
     "text": [
      "3.7.12 | packaged by conda-forge | (default, Oct 26 2021, 06:08:53) \n",
      "[GCC 9.4.0]\n",
      "/kaggle/input/lstmfile/tokenizer.pickle\n",
      "/kaggle/input/lstmfile/baselineModel.h5\n",
      "/kaggle/input/recursivebasefile1/tokenizer.pickle\n",
      "/kaggle/input/recursivebasefile1/baselineModel.h5\n",
      "/kaggle/input/newencoded/encodedNew.csv\n",
      "/kaggle/input ['lstmfile', 'recursivebasefile1', 'newencoded']\n",
      "/kaggle/input/lstmfile []\n",
      "/kaggle/input/recursivebasefile1 []\n",
      "/kaggle/input/newencoded []\n"
     ]
    }
   ],
   "source": [
    "#!pip list\n",
    "\n",
    "\n",
    "import sys\n",
    "print(sys.version)\n",
    "\n",
    "\n",
    "\n",
    "# This Python 3 environment comes with many helpful analytics libraries installed\n",
    "# It is defined by the kaggle/python Docker image: https://github.com/kaggle/docker-python\n",
    "# For example, here's several helpful packages to load\n",
    "import numpy as np # linear algebra\n",
    "import pandas as pd # data processing, CSV file I/O (e.g. pd.read_csv)\n",
    "\n",
    "# Input data files are available in the read-only \"../input/\" directory\n",
    "# For example, running this (by clicking run or pressing Shift+Enter) will list all files under the input directory\n",
    "\n",
    "import os\n",
    "for dirname, _, filenames in os.walk('/kaggle/input'):\n",
    "    for filename in filenames:\n",
    "        print(os.path.join(dirname, filename))\n",
    "\n",
    "# You can write up to 20GB to the current directory (/kaggle/working/) that gets preserved as output when you create a version using \"Save & Run All\" \n",
    "# You can also write temporary files to /kaggle/temp/, but they won't be saved outside of the current session\n",
    "\n",
    "\n",
    "count = 0\n",
    "for root, folders, filenames in os.walk('/kaggle/input'):\n",
    "   print(root, folders)"
   ]
  },
  {
   "cell_type": "code",
   "execution_count": 2,
   "id": "64c66e41",
   "metadata": {
    "execution": {
     "iopub.execute_input": "2022-04-24T20:59:21.322452Z",
     "iopub.status.busy": "2022-04-24T20:59:21.321784Z",
     "iopub.status.idle": "2022-04-24T20:59:21.324252Z",
     "shell.execute_reply": "2022-04-24T20:59:21.323864Z",
     "shell.execute_reply.started": "2022-04-24T20:57:21.572015Z"
    },
    "papermill": {
     "duration": 0.031749,
     "end_time": "2022-04-24T20:59:21.324352",
     "exception": false,
     "start_time": "2022-04-24T20:59:21.292603",
     "status": "completed"
    },
    "tags": []
   },
   "outputs": [],
   "source": [
    "def build_model(vocab_size, embedding_dim, rnn_units, batch_size):\n",
    "    model = tf.keras.models.Sequential()\n",
    "    model.add(tf.keras.layers.Embedding(\n",
    "        input_dim=vocab_size,\n",
    "        output_dim=embedding_dim,\n",
    "        batch_input_shape=[batch_size, None]\n",
    "    ))\n",
    "    model.add(tf.keras.layers.LSTM(\n",
    "        units=rnn_units,\n",
    "        return_sequences=True,\n",
    "        stateful=True, #look into this causing the issue potentially, originally was True\n",
    "        recurrent_initializer=tf.keras.initializers.GlorotNormal() #used to be be tf.keras.initializers.GlorotNormal() before downgradingf\n",
    "    )) # temp removed\n",
    "    model.add(tf.keras.layers.Dense(vocab_size))\n",
    "    \n",
    "    return model"
   ]
  },
  {
   "cell_type": "code",
   "execution_count": 3,
   "id": "e840b221",
   "metadata": {
    "execution": {
     "iopub.execute_input": "2022-04-24T20:59:21.378629Z",
     "iopub.status.busy": "2022-04-24T20:59:21.378066Z",
     "iopub.status.idle": "2022-04-24T20:59:26.311268Z",
     "shell.execute_reply": "2022-04-24T20:59:26.310791Z",
     "shell.execute_reply.started": "2022-04-24T20:57:21.581496Z"
    },
    "papermill": {
     "duration": 4.962389,
     "end_time": "2022-04-24T20:59:26.311395",
     "exception": false,
     "start_time": "2022-04-24T20:59:21.349006",
     "status": "completed"
    },
    "tags": []
   },
   "outputs": [],
   "source": [
    "#imports\n",
    "import numpy as np # linear algebra\n",
    "import pandas as pd # data processing, CSV file I/O (e.g. pd.read_csv)\n",
    "import tensorflow as tf # ML/DL\n",
    "import keras\n",
    "from keras.models import Sequential\n",
    "from tensorflow.keras.layers import LSTM\n",
    "from keras.layers import Activation, Dense, Dropout\n",
    "import matplotlib.pyplot as plt\n",
    "import tqdm\n",
    "import pickle\n",
    "\n",
    "#tf.compat.v1.enable_eager_execution()\n",
    "import tensorflow_addons as tfa\n",
    "#import coremltools as ct"
   ]
  },
  {
   "cell_type": "code",
   "execution_count": 4,
   "id": "baf2ffc3",
   "metadata": {
    "execution": {
     "iopub.execute_input": "2022-04-24T20:59:26.366800Z",
     "iopub.status.busy": "2022-04-24T20:59:26.366202Z",
     "iopub.status.idle": "2022-04-24T20:59:26.395932Z",
     "shell.execute_reply": "2022-04-24T20:59:26.396366Z",
     "shell.execute_reply.started": "2022-04-24T20:57:26.963823Z"
    },
    "papermill": {
     "duration": 0.060306,
     "end_time": "2022-04-24T20:59:26.396512",
     "exception": false,
     "start_time": "2022-04-24T20:59:26.336206",
     "status": "completed"
    },
    "tags": []
   },
   "outputs": [
    {
     "data": {
      "text/html": [
       "<div>\n",
       "<style scoped>\n",
       "    .dataframe tbody tr th:only-of-type {\n",
       "        vertical-align: middle;\n",
       "    }\n",
       "\n",
       "    .dataframe tbody tr th {\n",
       "        vertical-align: top;\n",
       "    }\n",
       "\n",
       "    .dataframe thead th {\n",
       "        text-align: right;\n",
       "    }\n",
       "</style>\n",
       "<table border=\"1\" class=\"dataframe\">\n",
       "  <thead>\n",
       "    <tr style=\"text-align: right;\">\n",
       "      <th></th>\n",
       "      <th>d/l</th>\n",
       "      <th>pu</th>\n",
       "      <th>tpu</th>\n",
       "      <th>rpu</th>\n",
       "      <th>su</th>\n",
       "      <th>tsu</th>\n",
       "      <th>rsu</th>\n",
       "      <th>sq</th>\n",
       "      <th>tsq</th>\n",
       "      <th>rsq</th>\n",
       "      <th>bp</th>\n",
       "      <th>tbp</th>\n",
       "      <th>rbp</th>\n",
       "    </tr>\n",
       "  </thead>\n",
       "  <tbody>\n",
       "    <tr>\n",
       "      <th>0</th>\n",
       "      <td>4</td>\n",
       "      <td>8</td>\n",
       "      <td>10</td>\n",
       "      <td>18</td>\n",
       "      <td>25</td>\n",
       "      <td>35</td>\n",
       "      <td>42</td>\n",
       "      <td>56</td>\n",
       "      <td>70</td>\n",
       "      <td>2</td>\n",
       "      <td>63</td>\n",
       "      <td>80</td>\n",
       "      <td>0</td>\n",
       "    </tr>\n",
       "    <tr>\n",
       "      <th>1</th>\n",
       "      <td>1</td>\n",
       "      <td>3</td>\n",
       "      <td>25</td>\n",
       "      <td>28</td>\n",
       "      <td>3</td>\n",
       "      <td>15</td>\n",
       "      <td>61</td>\n",
       "      <td>7</td>\n",
       "      <td>50</td>\n",
       "      <td>6</td>\n",
       "      <td>6</td>\n",
       "      <td>50</td>\n",
       "      <td>25</td>\n",
       "    </tr>\n",
       "    <tr>\n",
       "      <th>2</th>\n",
       "      <td>2</td>\n",
       "      <td>21</td>\n",
       "      <td>55</td>\n",
       "      <td>19</td>\n",
       "      <td>24</td>\n",
       "      <td>70</td>\n",
       "      <td>10</td>\n",
       "      <td>10</td>\n",
       "      <td>30</td>\n",
       "      <td>2</td>\n",
       "      <td>13</td>\n",
       "      <td>40</td>\n",
       "      <td>27</td>\n",
       "    </tr>\n",
       "    <tr>\n",
       "      <th>3</th>\n",
       "      <td>2</td>\n",
       "      <td>12</td>\n",
       "      <td>30</td>\n",
       "      <td>45</td>\n",
       "      <td>12</td>\n",
       "      <td>35</td>\n",
       "      <td>6</td>\n",
       "      <td>8</td>\n",
       "      <td>25</td>\n",
       "      <td>7</td>\n",
       "      <td>28</td>\n",
       "      <td>80</td>\n",
       "      <td>0</td>\n",
       "    </tr>\n",
       "    <tr>\n",
       "      <th>4</th>\n",
       "      <td>4</td>\n",
       "      <td>11</td>\n",
       "      <td>15</td>\n",
       "      <td>53</td>\n",
       "      <td>12</td>\n",
       "      <td>15</td>\n",
       "      <td>5</td>\n",
       "      <td>20</td>\n",
       "      <td>25</td>\n",
       "      <td>36</td>\n",
       "      <td>48</td>\n",
       "      <td>60</td>\n",
       "      <td>17</td>\n",
       "    </tr>\n",
       "  </tbody>\n",
       "</table>\n",
       "</div>"
      ],
      "text/plain": [
       "   d/l  pu  tpu  rpu  su  tsu  rsu  sq  tsq  rsq  bp  tbp  rbp\n",
       "0    4   8   10   18  25   35   42  56   70    2  63   80    0\n",
       "1    1   3   25   28   3   15   61   7   50    6   6   50   25\n",
       "2    2  21   55   19  24   70   10  10   30    2  13   40   27\n",
       "3    2  12   30   45  12   35    6   8   25    7  28   80    0\n",
       "4    4  11   15   53  12   15    5  20   25   36  48   60   17"
      ]
     },
     "execution_count": 4,
     "metadata": {},
     "output_type": "execute_result"
    }
   ],
   "source": [
    "#try: #for recursive model training\n",
    "#    df = pd.read_csv(os.path.join('./WORKING'))\n",
    "#    print('Wokrgin')\n",
    "#except:\n",
    "df = pd.read_csv(os.path.join('../input/newencoded/encodedNew.csv'))\n",
    "#OG DATAFRAME\n",
    "df.head()"
   ]
  },
  {
   "cell_type": "code",
   "execution_count": 5,
   "id": "0771fe9c",
   "metadata": {
    "execution": {
     "iopub.execute_input": "2022-04-24T20:59:26.474739Z",
     "iopub.status.busy": "2022-04-24T20:59:26.464911Z",
     "iopub.status.idle": "2022-04-24T20:59:26.477560Z",
     "shell.execute_reply": "2022-04-24T20:59:26.477160Z",
     "shell.execute_reply.started": "2022-04-24T20:57:26.999536Z"
    },
    "papermill": {
     "duration": 0.055754,
     "end_time": "2022-04-24T20:59:26.477697",
     "exception": false,
     "start_time": "2022-04-24T20:59:26.421943",
     "status": "completed"
    },
    "tags": []
   },
   "outputs": [],
   "source": [
    "import random\n",
    "\n",
    "def alterRange(pu,tpu): #THE MODEL DOESNT CONTAIN ALL THE VOCAB WE ARE ASKING IT TO, EITHER MAP TO CLOSEST VOCAB OR RETAIN THE MOBEL ON MORE POSSIBLE NUMBER\n",
    "    mul = pu/tpu\n",
    "    alterMul = mul + 1.0 #should be 0.03 but ill make it 0.5 for now\n",
    "    pu = alterMul * tpu  \n",
    "    return int(float(pu))\n",
    "\n",
    "\n",
    "def generateAction(diffLevel):\n",
    "    if diffLevel == 5: \n",
    "        multiplier = random.uniform(0.9,1)\n",
    "        tpa = random.randrange(10,80,5)\n",
    "        numActions = int(tpa * multiplier)\n",
    "        rpa = random.randrange(0,80-int(tpa))\n",
    "    elif diffLevel == 4: \n",
    "        multiplier = random.uniform(0.7,0.8)\n",
    "        tpa = random.randrange(10,80,5)\n",
    "        numActions = int(tpa * multiplier)\n",
    "        rpa = random.randrange(0,80-int(tpa))\n",
    "        rpa = random.randrange(0,80-int(tpa))\n",
    "    elif diffLevel == 3: \n",
    "        multiplier = random.uniform(0.5,0.6)\n",
    "        tpa = random.randrange(10,80,5)\n",
    "        numActions = int(tpa * multiplier)\n",
    "        rpa = random.randrange(0,80-int(tpa))\n",
    "        rpa = random.randrange(0,80-int(tpa))\n",
    "    elif diffLevel == 2: \n",
    "        multiplier = random.uniform(0.3,0.4)\n",
    "        tpa = random.randrange(10,80,5)\n",
    "        numActions = int(tpa * multiplier)\n",
    "        rpa = random.randrange(0,80-int(tpa))\n",
    "        rpa = random.randrange(0,80-int(tpa))\n",
    "    elif diffLevel == 1: \n",
    "        multiplier = random.uniform(0.1,0.2)\n",
    "        tpa = random.randrange(10,80,5)\n",
    "        numActions = int(tpa * multiplier)\n",
    "        rpa = random.randrange(0,80-int(tpa))\n",
    "    return tpa,numActions,rpa\n",
    "\n",
    "def generateExamples(diffLevel, alter=False):\n",
    "    if diffLevel == 5: \n",
    "        tpu,pu,rpu = generateAction(5)\n",
    "        tsu,su,rsu = generateAction(5)\n",
    "        tsq,sq,rsq = generateAction(5)\n",
    "        tbp,bp,rbp = generateAction(5)\n",
    "        print(pu)\n",
    "        #temp\n",
    "        if(alter == True):\n",
    "            pu = alterRange(pu,tpu)\n",
    "        #temp\n",
    "        print(pu)\n",
    "        outputStr = (str(diffLevel) + \"-DL:~\" + str(pu) + \"~\" + str(tpu) + \"~\" + str(rpu) + \"~\" + str(su) + \"~\" + str(tsu) + \"~\" + str(rsu) + \"~\" + str(sq) + \"~\" + str(tsq) + \"~\" + str(rsq) + \"~\"  +  str(bp) + \"~\" + str(tbp) + \"~\" + str(rbp) + \"~\" + \"␣\" )\n",
    "        #outputStr = (str(diffLevel) + \"-DL:~\" + str(pu) + \"~\" + str(tpu) + \"~\" + str(rpu) + \"~\" + str(su) + \"~\" + str(tsu) + \"~\" + str(rsu) + \"~\" + str(sq) + \"~\" + str(tsq) + \"~\" + str(rsq) + \"~\" + \"␣\" )\n",
    "    elif diffLevel == 4: \n",
    "        tpu,pu,rpu = generateAction(4)\n",
    "        tsu,su,rsu = generateAction(4)\n",
    "        tsq,sq,rsq = generateAction(4)\n",
    "        tbp,bp,rbp = generateAction(4)\n",
    "        outputStr = (str(diffLevel) + \"-DL:~\" + str(pu) + \"~\" + str(tpu) + \"~\" + str(rpu) + \"~\" + str(su) + \"~\" + str(tsu) + \"~\" + str(rsu) + \"~\" + str(sq) + \"~\" + str(tsq) + \"~\" + str(rsq) + \"~\"  +  str(bp) + \"~\" + str(tbp) + \"~\" + str(rbp) + \"~\" + \"␣\" )\n",
    "    elif diffLevel == 3: \n",
    "        tpu,pu,rpu = generateAction(3)\n",
    "        tsu,su,rsu = generateAction(3)\n",
    "        tsq,sq,rsq = generateAction(3)\n",
    "        tbp,bp,rbp = generateAction(3)\n",
    "        outputStr = (str(diffLevel) + \"-DL:~\" + str(pu) + \"~\" + str(tpu) + \"~\" + str(rpu) + \"~\" + str(su) + \"~\" + str(tsu) + \"~\" + str(rsu) + \"~\" + str(sq) + \"~\" + str(tsq) + \"~\" + str(rsq) + \"~\"  +  str(bp) + \"~\" + str(tbp) + \"~\" + str(rbp) + \"~\" + \"␣\" )\n",
    "    elif diffLevel == 2: \n",
    "        tpu,pu,rpu = generateAction(2)\n",
    "        tsu,su,rsu = generateAction(2)\n",
    "        tsq,sq,rsq = generateAction(2)\n",
    "        tbp,bp,rbp = generateAction(2)\n",
    "        outputStr = (str(diffLevel) + \"-DL:~\" + str(pu) + \"~\" + str(tpu) + \"~\" + str(rpu) + \"~\" + str(su) + \"~\" + str(tsu) + \"~\" + str(rsu) + \"~\" + str(sq) + \"~\" + str(tsq) + \"~\" + str(rsq) + \"~\"  +  str(bp) + \"~\" + str(tbp) + \"~\" + str(rbp) + \"~\" + \"␣\" )\n",
    "    elif diffLevel == 1: \n",
    "        tpu,pu,rpu = generateAction(1)\n",
    "        tsu,su,rsu = generateAction(1)\n",
    "        tsq,sq,rsq = generateAction(1)\n",
    "        tbp,bp,rbp = generateAction(1)\n",
    "        outputStr = (str(diffLevel) + \"-DL:~\" + str(pu) + \"~\" + str(tpu) + \"~\" + str(rpu) + \"~\" + str(su) + \"~\" + str(tsu) + \"~\" + str(rsu) + \"~\" + str(sq) + \"~\" + str(tsq) + \"~\" + str(rsq) + \"~\"  +  str(bp) + \"~\" + str(tbp) + \"~\" + str(rbp) + \"~\" + \"␣\" )\n",
    "    return outputStr\n",
    "    \n",
    "    \n",
    "\n",
    "        \n",
    "    "
   ]
  },
  {
   "cell_type": "code",
   "execution_count": 6,
   "id": "6310da1c",
   "metadata": {
    "execution": {
     "iopub.execute_input": "2022-04-24T20:59:26.540023Z",
     "iopub.status.busy": "2022-04-24T20:59:26.539326Z",
     "iopub.status.idle": "2022-04-24T20:59:28.238524Z",
     "shell.execute_reply": "2022-04-24T20:59:28.237769Z",
     "shell.execute_reply.started": "2022-04-24T20:57:27.031049Z"
    },
    "papermill": {
     "duration": 1.735915,
     "end_time": "2022-04-24T20:59:28.238689",
     "exception": false,
     "start_time": "2022-04-24T20:59:26.502774",
     "status": "completed"
    },
    "tags": []
   },
   "outputs": [
    {
     "name": "stdout",
     "output_type": "stream",
     "text": [
      "   d/l  pu  tpu  rpu  su  tsu  rsu  sq  tsq  rsq  bp  tbp  rbp\n",
      "0    4   8   10   18  25   35   42  56   70    2  63   80    0\n",
      "1    1   3   25   28   3   15   61   7   50    6   6   50   25\n",
      "2    2  21   55   19  24   70   10  10   30    2  13   40   27\n",
      "3    2  12   30   45  12   35    6   8   25    7  28   80    0\n",
      "4    4  11   15   53  12   15    5  20   25   36  48   60   17\n",
      "      d/l  pu  tpu  rpu  su  tsu  rsu  sq  tsq  rsq  bp  tbp  rbp\n",
      "984     1   4   20   15  12   75    2   4   25   37   2   10   68\n",
      "1011    4  19   25    9  35   45    9  39   50    4  63   80    0\n",
      "1151    1   6   45    0   6   40    3  12   75    0   4   25    9\n",
      "110     3  19   35   21  46   80    0  28   50   24  35   65   11\n",
      "146     5  38   40   12  69   75    3  74   75    5  45   50   27\n"
     ]
    }
   ],
   "source": [
    "\n",
    "STOP_SIGN = \"␣\"   \n",
    "allWorkoutsString = []\n",
    "stringVocab = []\n",
    "\n",
    "#import random\n",
    "\n",
    "\n",
    "##NEW SHUFFLING TO FIX POOR EARLY PERFORMANCE\n",
    "print(df.head())\n",
    "df = df.sample(frac = 1)\n",
    "print(df.head())\n",
    "##NEW SHUFFLING TO FIX POOR EARLY PERFORMANCE\n",
    "\n",
    "for i in range(len(df)):\n",
    "    df.iloc[i][\"pu\"] = alterRange(df.iloc[i][\"pu\"],df.iloc[i][\"tpu\"]) #right now it overall makes pu way more diffiuclt\n",
    "    workout = (str(df.iloc[i][\"d/l\"]) + \"-DL:~\" + str(df.iloc[i][\"pu\"]) + \"~\" + str(df.iloc[i][\"tpu\"]) + \"~\" + str(df.iloc[i][\"rpu\"]) + \"~\" + str(df.iloc[i][\"su\"]) + \"~\" + str(df.iloc[i][\"tsu\"]) + \"~\" + str(df.iloc[i][\"rsu\"]) + \"~\" + str(df.iloc[i][\"sq\"]) + \"~\" + str(df.iloc[i][\"tsq\"]) + \"~\" + str(df.iloc[i][\"rsq\"]) + \"~\"  +  str(df.iloc[i][\"bp\"]) + \"~\" + str(df.iloc[i][\"tbp\"]) + \"~\" + str(df.iloc[i][\"rbp\"]) + \"~\" + \"␣\" )\n",
    "    allWorkoutsString.append(workout)\n",
    "    #stringVocab.append(workout)\n",
    "      \n",
    "        \n",
    "\n",
    "#df.to_csv(\"./WORKING\")\n",
    "#\n",
    "#for z in range(50):   \n",
    "    #allWorkoutsString.append(generateExamples(5,True))\n",
    "    #allWorkoutsString.append(generateExamples(4))\n",
    "    #allWorkoutsString.append(generateExamples(3))\n",
    "    #allWorkoutsString.append(generateExamples(2))\n",
    "    #allWorkoutsString.append(generateExamples(1))\n",
    "    \n",
    "#allWorkoutsString.append(generateExamples(5,True))\n",
    "\n"
   ]
  },
  {
   "cell_type": "code",
   "execution_count": 7,
   "id": "6b5693ae",
   "metadata": {
    "execution": {
     "iopub.execute_input": "2022-04-24T20:59:28.303560Z",
     "iopub.status.busy": "2022-04-24T20:59:28.302728Z",
     "iopub.status.idle": "2022-04-24T20:59:28.305424Z",
     "shell.execute_reply": "2022-04-24T20:59:28.304987Z",
     "shell.execute_reply.started": "2022-04-24T20:57:29.043889Z"
    },
    "papermill": {
     "duration": 0.039354,
     "end_time": "2022-04-24T20:59:28.305529",
     "exception": false,
     "start_time": "2022-04-24T20:59:28.266175",
     "status": "completed"
    },
    "tags": []
   },
   "outputs": [],
   "source": [
    "def decodeWorkout(input):    \n",
    "    c = input.split(\"~\")\n",
    "    if(len(c) == 5):\n",
    "        pushupStr = str(c[0] + \"\\n\" + c[1] + \" pushups for \" + c[2] + \" seconds with \" + c[3] + \" second rest \")\n",
    "        outputStr = (pushupStr)\n",
    "    elif(len(c) == 8):\n",
    "        pushupStr = str(c[0] + \"\\n\" + c[1] + \" pushups for \" + c[2] + \" seconds with \" + c[3] + \" second rest \")\n",
    "        situpStr = str(\"\\n\" + c[4] + \" situps for \" + c[5] + \" seconds with \" + c[6] + \" second rest \")\n",
    "        outputStr = (pushupStr + situpStr)\n",
    "    elif(len(c)==11):\n",
    "        pushupStr = str(c[0] + \"\\n\" + c[1] + \" pushups for \" + c[2] + \" seconds with \" + c[3] + \" second rest \")\n",
    "        situpStr = str(\"\\n\" + c[4] + \" situps for \" + c[5] + \" seconds with \" + c[6] + \" second rest \")\n",
    "        squatStr = str(\"\\n\" + c[7] + \" squats for \" + c[8] + \" seconds with \" + c[9] + \" second rest \")\n",
    "        outputStr = (pushupStr + situpStr + squatStr)\n",
    "    elif(len(c) == 14):\n",
    "        pushupStr = str(c[0] + \"\\n\" + c[1] + \" pushups for \" + c[2] + \" seconds with \" + c[3] + \" second rest \")\n",
    "        situpStr = str(\"\\n\" + c[4] + \" situps for \" + c[5] + \" seconds with \" + c[6] + \" second rest \")\n",
    "        squatStr = str(\"\\n\" + c[7] + \" squats for \" + c[8] + \" seconds with \" + c[9] + \" second rest \")\n",
    "        burpeeStr = str(\"\\n\" + c[10] + \" burpees for \" + c[11] + \" seconds with \" + c[12] + \" second rest \")\n",
    "        outputStr = (pushupStr + situpStr + squatStr + burpeeStr)\n",
    "    else:\n",
    "        outputStr = \"fail\"\n",
    "    \n",
    "    return outputStr\n",
    "#for i in range(15) :\n",
    "#        print(decodeWorkout(allWorkoutsString[i]))\n"
   ]
  },
  {
   "cell_type": "code",
   "execution_count": 8,
   "id": "6f9aaa80",
   "metadata": {
    "execution": {
     "iopub.execute_input": "2022-04-24T20:59:28.361079Z",
     "iopub.status.busy": "2022-04-24T20:59:28.360408Z",
     "iopub.status.idle": "2022-04-24T20:59:28.383532Z",
     "shell.execute_reply": "2022-04-24T20:59:28.382931Z",
     "shell.execute_reply.started": "2022-04-24T20:57:29.059994Z"
    },
    "papermill": {
     "duration": 0.052955,
     "end_time": "2022-04-24T20:59:28.383703",
     "exception": false,
     "start_time": "2022-04-24T20:59:28.330748",
     "status": "completed"
    },
    "tags": []
   },
   "outputs": [
    {
     "name": "stdout",
     "output_type": "stream",
     "text": [
      "{'num_words': None, 'filters': '', 'lower': False, 'split': '', 'char_level': True, 'oov_token': None, 'document_count': 1500, 'word_counts': '{\"5\": 5707, \"-\": 1500, \"D\": 1500, \"L\": 1500, \":\": 1500, \"~\": 19500, \"2\": 4330, \"7\": 1901, \"3\": 3542, \"0\": 4869, \"1\": 4829, \"6\": 2221, \"4\": 3507, \"\\\\u2423\": 1500, \"9\": 1132, \"8\": 1554}', 'word_docs': '{\"5\": 1472, \"~\": 1500, \"L\": 1500, \"0\": 1479, \"1\": 1435, \"6\": 1182, \"-\": 1500, \"3\": 1347, \":\": 1500, \"4\": 1360, \"2\": 1406, \"7\": 1095, \"\\\\u2423\": 1500, \"D\": 1500, \"9\": 835, \"8\": 1005}', 'index_docs': '{\"2\": 1472, \"1\": 1500, \"13\": 1500, \"3\": 1479, \"4\": 1435, \"8\": 1182, \"11\": 1500, \"6\": 1347, \"14\": 1500, \"7\": 1360, \"5\": 1406, \"9\": 1095, \"15\": 1500, \"12\": 1500, \"16\": 835, \"10\": 1005}', 'index_word': '{\"1\": \"~\", \"2\": \"5\", \"3\": \"0\", \"4\": \"1\", \"5\": \"2\", \"6\": \"3\", \"7\": \"4\", \"8\": \"6\", \"9\": \"7\", \"10\": \"8\", \"11\": \"-\", \"12\": \"D\", \"13\": \"L\", \"14\": \":\", \"15\": \"\\\\u2423\", \"16\": \"9\"}', 'word_index': '{\"~\": 1, \"5\": 2, \"0\": 3, \"1\": 4, \"2\": 5, \"3\": 6, \"4\": 7, \"6\": 8, \"7\": 9, \"8\": 10, \"-\": 11, \"D\": 12, \"L\": 13, \":\": 14, \"\\\\u2423\": 15, \"9\": 16}'}\n",
      "Vectorized dataset size 1500\n",
      "[[3]]\n",
      "[[4]]\n",
      "[[5]]\n",
      "[[6]]\n",
      "[[7]]\n",
      "[[2]]\n",
      "[[8]]\n",
      "[[9]]\n",
      "[[10]]\n",
      "[[16]]\n"
     ]
    }
   ],
   "source": [
    "#encoding each of the characters into integers so the model can understand -> paying special attention to the stop_sign\n",
    "import pickle\n",
    "\n",
    "with open('../input/lstmfile/tokenizer.pickle', 'rb') as handle:\n",
    "    tokenizer = pickle.load(handle)\n",
    "\n",
    "\n",
    "print(tokenizer.get_config())\n",
    "VOCABULARY_SIZE = len(tokenizer.word_counts) + 1 \n",
    "\n",
    "dataset_vectorized = tokenizer.texts_to_sequences(allWorkoutsString)\n",
    "print('Vectorized dataset size', len(dataset_vectorized))\n",
    "\n",
    "\n",
    "for i in range(10):\n",
    "    print(tokenizer.texts_to_sequences([f\"{i}\"]))\n",
    "\n"
   ]
  },
  {
   "cell_type": "code",
   "execution_count": 9,
   "id": "3613737b",
   "metadata": {
    "execution": {
     "iopub.execute_input": "2022-04-24T20:59:28.442328Z",
     "iopub.status.busy": "2022-04-24T20:59:28.441763Z",
     "iopub.status.idle": "2022-04-24T20:59:28.444683Z",
     "shell.execute_reply": "2022-04-24T20:59:28.445248Z",
     "shell.execute_reply.started": "2022-04-24T20:57:29.094166Z"
    },
    "papermill": {
     "duration": 0.034189,
     "end_time": "2022-04-24T20:59:28.445404",
     "exception": false,
     "start_time": "2022-04-24T20:59:28.411215",
     "status": "completed"
    },
    "tags": []
   },
   "outputs": [
    {
     "name": "stdout",
     "output_type": "stream",
     "text": [
      "1500\n",
      "44\n"
     ]
    }
   ],
   "source": [
    "#add padding to ensure same length --- only if all are not the sane length\n",
    "print(len(dataset_vectorized))\n",
    "maxLength = 0\n",
    "for workout_index, workout in enumerate(dataset_vectorized[:len(dataset_vectorized)]):\n",
    "    #if(len(workout)) != 167:\n",
    "    if(maxLength < len(workout)):\n",
    "        #print('Workout #{} length: {}'.format(workout_index + 1, len(workout)))\n",
    "        maxLength = len(workout)\n",
    "#padding is required\n",
    "print(maxLength)"
   ]
  },
  {
   "cell_type": "code",
   "execution_count": 10,
   "id": "038d7963",
   "metadata": {
    "execution": {
     "iopub.execute_input": "2022-04-24T20:59:28.502536Z",
     "iopub.status.busy": "2022-04-24T20:59:28.501933Z",
     "iopub.status.idle": "2022-04-24T20:59:28.504957Z",
     "shell.execute_reply": "2022-04-24T20:59:28.505522Z",
     "shell.execute_reply.started": "2022-04-24T20:57:29.106625Z"
    },
    "papermill": {
     "duration": 0.03344,
     "end_time": "2022-04-24T20:59:28.505702",
     "exception": false,
     "start_time": "2022-04-24T20:59:28.472262",
     "status": "completed"
    },
    "tags": []
   },
   "outputs": [
    {
     "name": "stdout",
     "output_type": "stream",
     "text": [
      "1 - D L : ~ 2 4 ~ 2 0 ~ 1 5 ~ 1 2 ~ 7 5 ~ 2 ~ 4 ~ 2 5 ~ 3 7 ~ 2 ~ 1 0 ~ 6 8 ~ ␣\n"
     ]
    }
   ],
   "source": [
    "def decodeVector(vector):\n",
    "    decodedWorkout = tokenizer.sequences_to_texts([vector])[0]\n",
    "    print(decodedWorkout)\n",
    "    \n",
    "#basic test to see if the decoder is working\n",
    "decodeVector(dataset_vectorized[0])"
   ]
  },
  {
   "cell_type": "code",
   "execution_count": 11,
   "id": "35f607ad",
   "metadata": {
    "execution": {
     "iopub.execute_input": "2022-04-24T20:59:28.566850Z",
     "iopub.status.busy": "2022-04-24T20:59:28.565032Z",
     "iopub.status.idle": "2022-04-24T20:59:28.588135Z",
     "shell.execute_reply": "2022-04-24T20:59:28.588689Z",
     "shell.execute_reply.started": "2022-04-24T20:57:29.114775Z"
    },
    "papermill": {
     "duration": 0.056039,
     "end_time": "2022-04-24T20:59:28.588853",
     "exception": false,
     "start_time": "2022-04-24T20:59:28.532814",
     "status": "completed"
    },
    "tags": []
   },
   "outputs": [
    {
     "name": "stdout",
     "output_type": "stream",
     "text": [
      "1 - D L : ~ 2 4 ~ 2 0 ~ 1 5 ~ 1 2 ~ 7 5 ~ 2 ~ 4 ~ 2 5 ~ 3 7 ~ 2 ~ 1 0 ~ 6 8 ~ ␣\n"
     ]
    }
   ],
   "source": [
    "dataset_vectorized_padded_without_stops = tf.keras.preprocessing.sequence.pad_sequences(\n",
    "    dataset_vectorized,\n",
    "    padding='post',\n",
    "    truncating='post',\n",
    "    # We use -1 here and +1 in the next step to make sure\n",
    "    # that all recipes will have at least 1 stops sign at the end,\n",
    "    # since each sequence will be shifted and truncated afterwards\n",
    "    # (to generate X and Y sequences).\n",
    "    maxlen=maxLength-1,\n",
    "    #value=tokenizer.texts_to_sequences([STOP_SIGN])[0] #maybe append here again\n",
    ")\n",
    "dataset_vectorized_padded = tf.keras.preprocessing.sequence.pad_sequences(\n",
    "    dataset_vectorized_padded_without_stops,\n",
    "    padding='post',\n",
    "    truncating='post',\n",
    "    maxlen=maxLength+1,\n",
    "    #value=tokenizer.texts_to_sequences([STOP_SIGN])[0]\n",
    ")\n",
    "\n",
    "for workout_index, workout in enumerate(dataset_vectorized_padded[:len(dataset_vectorized_padded)]):\n",
    "    if(len(workout)) != maxLength+1:\n",
    "        print('Workout #{} length: {}'.format(workout_index + 1, len(workout)))\n",
    "\n",
    "#test it out\n",
    "decodeVector(dataset_vectorized_padded[0])"
   ]
  },
  {
   "cell_type": "code",
   "execution_count": 12,
   "id": "4e9cd2e3",
   "metadata": {
    "execution": {
     "iopub.execute_input": "2022-04-24T20:59:30.822541Z",
     "iopub.status.busy": "2022-04-24T20:59:30.528868Z",
     "iopub.status.idle": "2022-04-24T20:59:30.832401Z",
     "shell.execute_reply": "2022-04-24T20:59:30.831809Z",
     "shell.execute_reply.started": "2022-04-24T20:57:29.147513Z"
    },
    "papermill": {
     "duration": 2.216477,
     "end_time": "2022-04-24T20:59:30.832568",
     "exception": false,
     "start_time": "2022-04-24T20:59:28.616091",
     "status": "completed"
    },
    "tags": []
   },
   "outputs": [
    {
     "name": "stderr",
     "output_type": "stream",
     "text": [
      "2022-04-24 20:59:28.700452: I tensorflow/stream_executor/cuda/cuda_gpu_executor.cc:937] successful NUMA node read from SysFS had negative value (-1), but there must be at least one NUMA node, so returning NUMA node zero\n",
      "2022-04-24 20:59:28.780325: I tensorflow/stream_executor/cuda/cuda_gpu_executor.cc:937] successful NUMA node read from SysFS had negative value (-1), but there must be at least one NUMA node, so returning NUMA node zero\n",
      "2022-04-24 20:59:28.781100: I tensorflow/stream_executor/cuda/cuda_gpu_executor.cc:937] successful NUMA node read from SysFS had negative value (-1), but there must be at least one NUMA node, so returning NUMA node zero\n",
      "2022-04-24 20:59:28.783179: I tensorflow/core/platform/cpu_feature_guard.cc:142] This TensorFlow binary is optimized with oneAPI Deep Neural Network Library (oneDNN) to use the following CPU instructions in performance-critical operations:  AVX2 AVX512F FMA\n",
      "To enable them in other operations, rebuild TensorFlow with the appropriate compiler flags.\n",
      "2022-04-24 20:59:28.784056: I tensorflow/stream_executor/cuda/cuda_gpu_executor.cc:937] successful NUMA node read from SysFS had negative value (-1), but there must be at least one NUMA node, so returning NUMA node zero\n",
      "2022-04-24 20:59:28.784735: I tensorflow/stream_executor/cuda/cuda_gpu_executor.cc:937] successful NUMA node read from SysFS had negative value (-1), but there must be at least one NUMA node, so returning NUMA node zero\n",
      "2022-04-24 20:59:28.785338: I tensorflow/stream_executor/cuda/cuda_gpu_executor.cc:937] successful NUMA node read from SysFS had negative value (-1), but there must be at least one NUMA node, so returning NUMA node zero\n",
      "2022-04-24 20:59:30.521335: I tensorflow/stream_executor/cuda/cuda_gpu_executor.cc:937] successful NUMA node read from SysFS had negative value (-1), but there must be at least one NUMA node, so returning NUMA node zero\n",
      "2022-04-24 20:59:30.522143: I tensorflow/stream_executor/cuda/cuda_gpu_executor.cc:937] successful NUMA node read from SysFS had negative value (-1), but there must be at least one NUMA node, so returning NUMA node zero\n",
      "2022-04-24 20:59:30.522814: I tensorflow/stream_executor/cuda/cuda_gpu_executor.cc:937] successful NUMA node read from SysFS had negative value (-1), but there must be at least one NUMA node, so returning NUMA node zero\n",
      "2022-04-24 20:59:30.523409: I tensorflow/core/common_runtime/gpu/gpu_device.cc:1510] Created device /job:localhost/replica:0/task:0/device:GPU:0 with 15403 MB memory:  -> device: 0, name: Tesla P100-PCIE-16GB, pci bus id: 0000:00:04.0, compute capability: 6.0\n"
     ]
    }
   ],
   "source": [
    "dataset = tf.data.Dataset.from_tensor_slices(dataset_vectorized_padded)"
   ]
  },
  {
   "cell_type": "code",
   "execution_count": 13,
   "id": "04107c1c",
   "metadata": {
    "execution": {
     "iopub.execute_input": "2022-04-24T20:59:30.893668Z",
     "iopub.status.busy": "2022-04-24T20:59:30.893150Z",
     "iopub.status.idle": "2022-04-24T20:59:30.960050Z",
     "shell.execute_reply": "2022-04-24T20:59:30.960691Z",
     "shell.execute_reply.started": "2022-04-24T20:57:31.464900Z"
    },
    "papermill": {
     "duration": 0.100291,
     "end_time": "2022-04-24T20:59:30.960867",
     "exception": false,
     "start_time": "2022-04-24T20:59:30.860576",
     "status": "completed"
    },
    "tags": []
   },
   "outputs": [
    {
     "name": "stdout",
     "output_type": "stream",
     "text": [
      "<MapDataset shapes: ((44,), (44,)), types: (tf.int32, tf.int32)>\n"
     ]
    }
   ],
   "source": [
    "#split processing\n",
    "def split_input_target(workout):\n",
    "    input_text = workout[:-1]\n",
    "    target_text = workout[1:]\n",
    "    \n",
    "    return input_text, target_text\n",
    "dataset_targeted = dataset.map(split_input_target)\n",
    "print(dataset_targeted)"
   ]
  },
  {
   "cell_type": "code",
   "execution_count": 14,
   "id": "c9c2ef8e",
   "metadata": {
    "execution": {
     "iopub.execute_input": "2022-04-24T20:59:31.027427Z",
     "iopub.status.busy": "2022-04-24T20:59:31.026803Z",
     "iopub.status.idle": "2022-04-24T20:59:31.029009Z",
     "shell.execute_reply": "2022-04-24T20:59:31.029398Z",
     "shell.execute_reply.started": "2022-04-24T20:57:31.540943Z"
    },
    "papermill": {
     "duration": 0.039165,
     "end_time": "2022-04-24T20:59:31.029521",
     "exception": false,
     "start_time": "2022-04-24T20:59:30.990356",
     "status": "completed"
    },
    "tags": []
   },
   "outputs": [],
   "source": [
    "def loss(labels, logits):\n",
    "    entropy = tf.keras.losses.sparse_categorical_crossentropy(\n",
    "      y_true=labels,\n",
    "      y_pred=logits,\n",
    "      from_logits=True\n",
    "    )\n",
    "    \n",
    "    return entropy\n",
    "#compile\n",
    "\n",
    "adam_optimizer = tf.keras.optimizers.Adam(learning_rate=0.001) #used to be 0.001 which worked much better\n",
    "\n",
    "\n",
    "early_stopping_callback = tf.keras.callbacks.EarlyStopping(\n",
    "    patience=5,\n",
    "    monitor='loss',\n",
    "    restore_best_weights=True,\n",
    "    verbose=1\n",
    ")"
   ]
  },
  {
   "cell_type": "code",
   "execution_count": 15,
   "id": "b87af1d2",
   "metadata": {
    "execution": {
     "iopub.execute_input": "2022-04-24T20:59:31.088805Z",
     "iopub.status.busy": "2022-04-24T20:59:31.088219Z",
     "iopub.status.idle": "2022-04-24T20:59:31.143147Z",
     "shell.execute_reply": "2022-04-24T20:59:31.142420Z",
     "shell.execute_reply.started": "2022-04-24T20:57:31.550492Z"
    },
    "papermill": {
     "duration": 0.086324,
     "end_time": "2022-04-24T20:59:31.143255",
     "exception": false,
     "start_time": "2022-04-24T20:59:31.056931",
     "status": "completed"
    },
    "tags": []
   },
   "outputs": [],
   "source": [
    "# Create a checkpoints directory. TO SAVE AND CONTINUE TRAINING\n",
    "checkpoint_dir = 'tmp/checkpoints'\n",
    "os.makedirs(checkpoint_dir, exist_ok=True)\n",
    "checkpoint_prefix = os.path.join(checkpoint_dir, 'ckpt_') #used to be ckpt_{epoch}, got rid due to space issues on kaggle\n",
    "checkpoint_callback=tf.keras.callbacks.ModelCheckpoint(\n",
    "    filepath=checkpoint_prefix,\n",
    "    save_weights_only=True\n",
    ")\n",
    "\n",
    "tqdm_callback = tfa.callbacks.TQDMProgressBar()"
   ]
  },
  {
   "cell_type": "code",
   "execution_count": 16,
   "id": "40294eaa",
   "metadata": {
    "execution": {
     "iopub.execute_input": "2022-04-24T20:59:31.202469Z",
     "iopub.status.busy": "2022-04-24T20:59:31.199478Z",
     "iopub.status.idle": "2022-04-24T20:59:32.700997Z",
     "shell.execute_reply": "2022-04-24T20:59:32.700501Z",
     "shell.execute_reply.started": "2022-04-24T20:57:31.621137Z"
    },
    "papermill": {
     "duration": 1.530658,
     "end_time": "2022-04-24T20:59:32.701127",
     "exception": false,
     "start_time": "2022-04-24T20:59:31.170469",
     "status": "completed"
    },
    "tags": []
   },
   "outputs": [],
   "source": [
    "\n",
    "def loss(labels, logits):\n",
    "    entropy = tf.keras.losses.sparse_categorical_crossentropy(\n",
    "      y_true=labels,\n",
    "      y_pred=logits,\n",
    "      from_logits=True\n",
    "    )\n",
    "    \n",
    "    return entropy\n",
    "\n",
    "#OG MODEL\n",
    "#model = keras.models.load_model(\n",
    "#    \"../input/lstmfile/baselineModel.h5\", custom_objects={\"loss\": loss}\n",
    "#)\n",
    "\n",
    "\n",
    "#New recursive approach\n",
    "model = keras.models.load_model(\n",
    "    \"../input/recursivebasefile1/baselineModel.h5\", custom_objects={\"loss\": loss}\n",
    ")\n",
    "\n",
    "\n",
    "#model = keras.models.load_model(\"../input/lstmfile/baselineModel.h5\")\n",
    "\n",
    "\n",
    "model.compile(\n",
    "    optimizer=adam_optimizer,\n",
    "    loss=loss\n",
    ")\n",
    "\n"
   ]
  },
  {
   "cell_type": "code",
   "execution_count": 17,
   "id": "10ae5103",
   "metadata": {
    "execution": {
     "iopub.execute_input": "2022-04-24T20:59:32.761704Z",
     "iopub.status.busy": "2022-04-24T20:59:32.761076Z",
     "iopub.status.idle": "2022-04-24T20:59:32.770010Z",
     "shell.execute_reply": "2022-04-24T20:59:32.770587Z",
     "shell.execute_reply.started": "2022-04-24T20:57:32.658378Z"
    },
    "papermill": {
     "duration": 0.041563,
     "end_time": "2022-04-24T20:59:32.770767",
     "exception": false,
     "start_time": "2022-04-24T20:59:32.729204",
     "status": "completed"
    },
    "tags": []
   },
   "outputs": [
    {
     "name": "stdout",
     "output_type": "stream",
     "text": [
      "<RepeatDataset shapes: ((64, 44), (64, 44)), types: (tf.int32, tf.int32)>\n"
     ]
    }
   ],
   "source": [
    "# Batch size.\n",
    "BATCH_SIZE = 64\n",
    "# Buffer size to shuffle the dataset (TF data is designed to work\n",
    "# with possibly infinite sequences, so it doesn't attempt to shuffle\n",
    "# the entire sequence in memory. Instead, it maintains a buffer in\n",
    "# which it shuffles elements).\n",
    "SHUFFLE_BUFFER_SIZE = 1000\n",
    "dataset_train = dataset_targeted \\\n",
    "  .shuffle(SHUFFLE_BUFFER_SIZE) \\\n",
    "  .batch(BATCH_SIZE, drop_remainder=True) \\\n",
    "  .repeat()\n",
    "print(dataset_train)"
   ]
  },
  {
   "cell_type": "code",
   "execution_count": 18,
   "id": "3809540a",
   "metadata": {
    "execution": {
     "iopub.execute_input": "2022-04-24T20:59:32.831113Z",
     "iopub.status.busy": "2022-04-24T20:59:32.830507Z",
     "iopub.status.idle": "2022-04-24T20:59:32.834765Z",
     "shell.execute_reply": "2022-04-24T20:59:32.835297Z",
     "shell.execute_reply.started": "2022-04-24T20:57:32.673977Z"
    },
    "papermill": {
     "duration": 0.036492,
     "end_time": "2022-04-24T20:59:32.835459",
     "exception": false,
     "start_time": "2022-04-24T20:59:32.798967",
     "status": "completed"
    },
    "tags": []
   },
   "outputs": [
    {
     "name": "stdout",
     "output_type": "stream",
     "text": [
      "EPOCHS:           3\n",
      "INITIAL_EPOCH:    1\n",
      "STEPS_PER_EPOCH:  23.4375\n"
     ]
    }
   ],
   "source": [
    "#const\n",
    "EPOCHS = 3 #5 seemed to work well\n",
    "INITIAL_EPOCH = 1\n",
    "STEPS_PER_EPOCH = len(allWorkoutsString) / BATCH_SIZE\n",
    "print('EPOCHS:          ', EPOCHS) \n",
    "print('INITIAL_EPOCH:   ', INITIAL_EPOCH)\n",
    "print('STEPS_PER_EPOCH: ', STEPS_PER_EPOCH) #default was 1500"
   ]
  },
  {
   "cell_type": "code",
   "execution_count": 19,
   "id": "b968b3f4",
   "metadata": {
    "execution": {
     "iopub.execute_input": "2022-04-24T20:59:32.896398Z",
     "iopub.status.busy": "2022-04-24T20:59:32.895675Z",
     "iopub.status.idle": "2022-04-24T20:59:37.582182Z",
     "shell.execute_reply": "2022-04-24T20:59:37.581679Z",
     "shell.execute_reply.started": "2022-04-24T20:57:32.681752Z"
    },
    "papermill": {
     "duration": 4.718631,
     "end_time": "2022-04-24T20:59:37.582314",
     "exception": false,
     "start_time": "2022-04-24T20:59:32.863683",
     "status": "completed"
    },
    "tags": []
   },
   "outputs": [
    {
     "name": "stdout",
     "output_type": "stream",
     "text": [
      "Epoch 2/3\n"
     ]
    },
    {
     "name": "stderr",
     "output_type": "stream",
     "text": [
      "2022-04-24 20:59:33.887293: I tensorflow/compiler/mlir/mlir_graph_optimization_pass.cc:185] None of the MLIR Optimization Passes are enabled (registered 2)\n",
      "2022-04-24 20:59:34.791004: I tensorflow/stream_executor/cuda/cuda_dnn.cc:369] Loaded cuDNN version 8005\n"
     ]
    },
    {
     "name": "stdout",
     "output_type": "stream",
     "text": [
      "23/23 [==============================] - 4s 27ms/step - loss: 0.9349\n",
      "Epoch 3/3\n",
      "23/23 [==============================] - 1s 28ms/step - loss: 0.3591\n"
     ]
    }
   ],
   "source": [
    "history = model.fit(\n",
    "    x=dataset_train,\n",
    "    epochs=EPOCHS,\n",
    "    steps_per_epoch=STEPS_PER_EPOCH,\n",
    "    initial_epoch=INITIAL_EPOCH,\n",
    "    callbacks=[\n",
    "        checkpoint_callback,\n",
    "        #tqdm_callback\n",
    "       # early_stopping_callback #we want to overfit this so get rid of early stopping\n",
    "    ]\n",
    ")\n",
    "\n",
    "model.save(\"new/baselineModel.h5\")"
   ]
  },
  {
   "cell_type": "code",
   "execution_count": 20,
   "id": "971036c8",
   "metadata": {
    "execution": {
     "iopub.execute_input": "2022-04-24T20:59:37.662566Z",
     "iopub.status.busy": "2022-04-24T20:59:37.662046Z",
     "iopub.status.idle": "2022-04-24T20:59:37.665406Z",
     "shell.execute_reply": "2022-04-24T20:59:37.665004Z",
     "shell.execute_reply.started": "2022-04-24T20:57:37.426760Z"
    },
    "papermill": {
     "duration": 0.046613,
     "end_time": "2022-04-24T20:59:37.665510",
     "exception": false,
     "start_time": "2022-04-24T20:59:37.618897",
     "status": "completed"
    },
    "tags": []
   },
   "outputs": [],
   "source": [
    "def generate_text(model, start_string, num_generate = 1000, temperature=1.0):\n",
    "    # Evaluation step (generating text using the learned model)\n",
    "\n",
    "    padded_start_string = start_string\n",
    "    # Converting our start string to numbers (vectorizing).\n",
    "    input_indices = np.array(tokenizer.texts_to_sequences([padded_start_string]))\n",
    "    # Empty string to store our results.\n",
    "    text_generated = []\n",
    "    # Here batch size == 1.\n",
    "   # model.reset_states()\n",
    "    for char_index in range(num_generate):\n",
    "        predictions = model(input_indices)\n",
    "        # remove the batch dimension\n",
    "        predictions = tf.squeeze(predictions, 0)\n",
    "        # Using a categorical distribution to predict the character returned by the model.\n",
    "        predictions = predictions / temperature\n",
    "        predicted_id = tf.random.categorical(\n",
    "            predictions,\n",
    "            num_samples=1\n",
    "        )[-1, 0].numpy()\n",
    "        # We pass the predicted character as the next input to the model\n",
    "        # along with the previous hidden state.\n",
    "        input_indices = tf.expand_dims([predicted_id], 0)\n",
    "\n",
    "        next_character = tokenizer.sequences_to_texts(input_indices.numpy())[0]\n",
    "        text_generated.append(next_character)\n",
    "\n",
    "       # output = ''.join(text_generated)\n",
    "\n",
    "       # output = decodeWorkout(output)\n",
    "\n",
    "    return (padded_start_string + ''.join(text_generated))"
   ]
  },
  {
   "cell_type": "code",
   "execution_count": 21,
   "id": "2ee19bce",
   "metadata": {
    "execution": {
     "iopub.execute_input": "2022-04-24T20:59:37.743795Z",
     "iopub.status.busy": "2022-04-24T20:59:37.742940Z",
     "iopub.status.idle": "2022-04-24T20:59:37.990707Z",
     "shell.execute_reply": "2022-04-24T20:59:37.991831Z",
     "shell.execute_reply.started": "2022-04-24T20:57:37.438879Z"
    },
    "papermill": {
     "duration": 0.291168,
     "end_time": "2022-04-24T20:59:37.992061",
     "exception": false,
     "start_time": "2022-04-24T20:59:37.700893",
     "status": "completed"
    },
    "tags": []
   },
   "outputs": [
    {
     "name": "stdout",
     "output_type": "stream",
     "text": [
      "Model: \"sequential\"\n",
      "_________________________________________________________________\n",
      "Layer (type)                 Output Shape              Param #   \n",
      "=================================================================\n",
      "embedding (Embedding)        (1, None, 256)            4352      \n",
      "_________________________________________________________________\n",
      "lstm (LSTM)                  (1, None, 1024)           5246976   \n",
      "_________________________________________________________________\n",
      "dense (Dense)                (1, None, 17)             17425     \n",
      "=================================================================\n",
      "Total params: 5,268,753\n",
      "Trainable params: 5,268,753\n",
      "Non-trainable params: 0\n",
      "_________________________________________________________________\n"
     ]
    }
   ],
   "source": [
    "vocab_size=VOCABULARY_SIZE\n",
    "embedding_dim=256\n",
    "rnn_units=1024\n",
    "\n",
    "simplified_batch_size = 1\n",
    "model_simplified = build_model(vocab_size, embedding_dim, rnn_units, simplified_batch_size)\n",
    "model_simplified.load_weights(tf.train.latest_checkpoint(checkpoint_dir))\n",
    "model_simplified.build(tf.TensorShape([simplified_batch_size, None]))\n",
    "model_simplified.summary()\n",
    "#nonTrainedModel = keras.models.load_model(\"../input/lstmfile/simplified_model.h5\")"
   ]
  },
  {
   "cell_type": "code",
   "execution_count": 22,
   "id": "97da1a6f",
   "metadata": {
    "execution": {
     "iopub.execute_input": "2022-04-24T20:59:38.073182Z",
     "iopub.status.busy": "2022-04-24T20:59:38.072365Z",
     "iopub.status.idle": "2022-04-24T20:59:38.286050Z",
     "shell.execute_reply": "2022-04-24T20:59:38.285557Z",
     "shell.execute_reply.started": "2022-04-24T20:57:59.660871Z"
    },
    "papermill": {
     "duration": 0.255214,
     "end_time": "2022-04-24T20:59:38.286168",
     "exception": false,
     "start_time": "2022-04-24T20:59:38.030954",
     "status": "completed"
    },
    "tags": []
   },
   "outputs": [
    {
     "name": "stdout",
     "output_type": "stream",
     "text": [
      "5-DL:~57~30~29~14~15~27~56~60~17~35~35~23~␣\n",
      "5-DL:\n",
      "57 pushups for 30 seconds with 29 second rest \n",
      "14 situps for 15 seconds with 27 second rest \n",
      "56 squats for 60 seconds with 17 second rest \n",
      "35 burpees for 35 seconds with 23 second rest \n"
     ]
    }
   ],
   "source": [
    "output = (generate_text(model_simplified, '5-DL:', num_generate = maxLength, temperature=1.0)) #make sure you pass it model_simplified\n",
    "print(output)\n",
    "print(decodeWorkout(output))\n",
    "\n",
    "#allWorkoutsString.append(\"5-DL:~60~50~28~14~15~17~15~15~36~34~35~5~␣\")\n",
    "#allWorkoutsString.append(\"5-DL:~40~30~6~10~10~5~44~45~6~41~45~16~␣\")\n",
    "#allWorkoutsString.append(\"5-DL:~75~65~9~24~25~45~41~45~34~72~80~0~␣\")\n",
    "#allWorkoutsString.append(\"5-DL:~85~70~0~55~55~3~33~35~23~30~30~34~␣\")\n",
    "#allWorkoutsString.append(\"5-DL:~60~50~22~68~75~4~63~70~6~14~15~33~␣\")"
   ]
  },
  {
   "cell_type": "code",
   "execution_count": 23,
   "id": "e62ae8b0",
   "metadata": {
    "execution": {
     "iopub.execute_input": "2022-04-24T20:59:38.363788Z",
     "iopub.status.busy": "2022-04-24T20:59:38.362979Z",
     "iopub.status.idle": "2022-04-24T20:59:38.560947Z",
     "shell.execute_reply": "2022-04-24T20:59:38.561379Z",
     "shell.execute_reply.started": "2022-04-24T20:57:37.937772Z"
    },
    "papermill": {
     "duration": 0.239157,
     "end_time": "2022-04-24T20:59:38.561518",
     "exception": false,
     "start_time": "2022-04-24T20:59:38.322361",
     "status": "completed"
    },
    "tags": []
   },
   "outputs": [
    {
     "name": "stdout",
     "output_type": "stream",
     "text": [
      "4-DL:~47~50~22~20~25~25~14~20~25~27~35~19~␣\n",
      "4-DL:\n",
      "47 pushups for 50 seconds with 22 second rest \n",
      "20 situps for 25 seconds with 25 second rest \n",
      "14 squats for 20 seconds with 25 second rest \n",
      "27 burpees for 35 seconds with 19 second rest \n"
     ]
    }
   ],
   "source": [
    "output = (generate_text(model_simplified, '4-DL:', num_generate = 43, temperature=1.0)) #make sure you pass it model_simplified\n",
    "print(output)\n",
    "print(decodeWorkout(output))"
   ]
  },
  {
   "cell_type": "code",
   "execution_count": 24,
   "id": "0659efc9",
   "metadata": {
    "execution": {
     "iopub.execute_input": "2022-04-24T20:59:38.641818Z",
     "iopub.status.busy": "2022-04-24T20:59:38.640681Z",
     "iopub.status.idle": "2022-04-24T20:59:38.841125Z",
     "shell.execute_reply": "2022-04-24T20:59:38.841983Z",
     "shell.execute_reply.started": "2022-04-24T20:57:38.151094Z"
    },
    "papermill": {
     "duration": 0.243333,
     "end_time": "2022-04-24T20:59:38.842178",
     "exception": false,
     "start_time": "2022-04-24T20:59:38.598845",
     "status": "completed"
    },
    "tags": []
   },
   "outputs": [
    {
     "name": "stdout",
     "output_type": "stream",
     "text": [
      "3-DL:~39~50~20~27~50~22~18~30~9~42~80~0~␣\n",
      "3-DL:\n",
      "39 pushups for 50 seconds with 20 second rest \n",
      "27 situps for 50 seconds with 22 second rest \n",
      "18 squats for 30 seconds with 9 second rest \n",
      "42 burpees for 80 seconds with 0 second rest \n"
     ]
    }
   ],
   "source": [
    "output = (generate_text(model_simplified, '3-DL:', num_generate = maxLength, temperature=1.0)) #make sure you pass it model_simplified\n",
    "print(output)\n",
    "print(decodeWorkout(output))\n"
   ]
  },
  {
   "cell_type": "code",
   "execution_count": 25,
   "id": "c5eb6de9",
   "metadata": {
    "execution": {
     "iopub.execute_input": "2022-04-24T20:59:38.921933Z",
     "iopub.status.busy": "2022-04-24T20:59:38.921122Z",
     "iopub.status.idle": "2022-04-24T20:59:39.119251Z",
     "shell.execute_reply": "2022-04-24T20:59:39.118839Z",
     "shell.execute_reply.started": "2022-04-24T20:57:38.361733Z"
    },
    "papermill": {
     "duration": 0.239414,
     "end_time": "2022-04-24T20:59:39.119368",
     "exception": false,
     "start_time": "2022-04-24T20:59:38.879954",
     "status": "completed"
    },
    "tags": []
   },
   "outputs": [
    {
     "name": "stdout",
     "output_type": "stream",
     "text": [
      "2-DL:~86~45~21~7~20~14~4~10~47~10~30~12~␣\n",
      "2-DL:\n",
      "86 pushups for 45 seconds with 21 second rest \n",
      "7 situps for 20 seconds with 14 second rest \n",
      "4 squats for 10 seconds with 47 second rest \n",
      "10 burpees for 30 seconds with 12 second rest \n"
     ]
    }
   ],
   "source": [
    "output = (generate_text(model_simplified, '2-DL:', num_generate = maxLength, temperature=1.0)) #make sure you pass it model_simplified\n",
    "print(output)\n",
    "print(decodeWorkout(output))"
   ]
  },
  {
   "cell_type": "code",
   "execution_count": 26,
   "id": "10ebcee4",
   "metadata": {
    "execution": {
     "iopub.execute_input": "2022-04-24T20:59:39.199479Z",
     "iopub.status.busy": "2022-04-24T20:59:39.198709Z",
     "iopub.status.idle": "2022-04-24T20:59:39.394992Z",
     "shell.execute_reply": "2022-04-24T20:59:39.394539Z",
     "shell.execute_reply.started": "2022-04-24T20:57:38.568308Z"
    },
    "papermill": {
     "duration": 0.238198,
     "end_time": "2022-04-24T20:59:39.395120",
     "exception": false,
     "start_time": "2022-04-24T20:59:39.156922",
     "status": "completed"
    },
    "tags": []
   },
   "outputs": [
    {
     "name": "stdout",
     "output_type": "stream",
     "text": [
      "1-DL:~36~30~23~12~70~6~9~45~14~11~55~16~␣\n",
      "1-DL:\n",
      "36 pushups for 30 seconds with 23 second rest \n",
      "12 situps for 70 seconds with 6 second rest \n",
      "9 squats for 45 seconds with 14 second rest \n",
      "11 burpees for 55 seconds with 16 second rest \n"
     ]
    }
   ],
   "source": [
    "output = (generate_text(model_simplified, '1-DL:', num_generate = maxLength, temperature=1.0)) #make sure you pass it model_simplified\n",
    "print(output)\n",
    "print(decodeWorkout(output))"
   ]
  },
  {
   "cell_type": "code",
   "execution_count": 27,
   "id": "908150a7",
   "metadata": {
    "execution": {
     "iopub.execute_input": "2022-04-24T20:59:39.473788Z",
     "iopub.status.busy": "2022-04-24T20:59:39.473176Z",
     "iopub.status.idle": "2022-04-24T20:59:39.525755Z",
     "shell.execute_reply": "2022-04-24T20:59:39.525175Z",
     "shell.execute_reply.started": "2022-04-24T20:57:38.885426Z"
    },
    "papermill": {
     "duration": 0.093324,
     "end_time": "2022-04-24T20:59:39.525874",
     "exception": false,
     "start_time": "2022-04-24T20:59:39.432550",
     "status": "completed"
    },
    "tags": []
   },
   "outputs": [],
   "source": [
    "import shutil\n",
    "\n",
    "shutil.rmtree('/tmp')\n",
    "\n",
    "model_simplified.save(\"simplified_modelMOD.h5\")"
   ]
  },
  {
   "cell_type": "code",
   "execution_count": null,
   "id": "f11140e2",
   "metadata": {
    "papermill": {
     "duration": 0.040197,
     "end_time": "2022-04-24T20:59:39.606162",
     "exception": false,
     "start_time": "2022-04-24T20:59:39.565965",
     "status": "completed"
    },
    "tags": []
   },
   "outputs": [],
   "source": []
  }
 ],
 "metadata": {
  "kernelspec": {
   "display_name": "Python 3",
   "language": "python",
   "name": "python3"
  },
  "language_info": {
   "codemirror_mode": {
    "name": "ipython",
    "version": 3
   },
   "file_extension": ".py",
   "mimetype": "text/x-python",
   "name": "python",
   "nbconvert_exporter": "python",
   "pygments_lexer": "ipython3",
   "version": "3.7.12"
  },
  "papermill": {
   "default_parameters": {},
   "duration": 29.207189,
   "end_time": "2022-04-24T20:59:42.509263",
   "environment_variables": {},
   "exception": null,
   "input_path": "__notebook__.ipynb",
   "output_path": "__notebook__.ipynb",
   "parameters": {},
   "start_time": "2022-04-24T20:59:13.302074",
   "version": "2.3.3"
  }
 },
 "nbformat": 4,
 "nbformat_minor": 5
}
