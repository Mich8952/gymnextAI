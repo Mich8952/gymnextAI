{
 "cells": [
  {
   "cell_type": "code",
   "execution_count": 1,
   "id": "44cf673e",
   "metadata": {
    "_cell_guid": "b1076dfc-b9ad-4769-8c92-a6c4dae69d19",
    "_uuid": "8f2839f25d086af736a60e9eeb907d3b93b6e0e5",
    "execution": {
     "iopub.execute_input": "2022-04-24T23:44:22.753452Z",
     "iopub.status.busy": "2022-04-24T23:44:22.751956Z",
     "iopub.status.idle": "2022-04-24T23:44:22.780696Z",
     "shell.execute_reply": "2022-04-24T23:44:22.779905Z",
     "shell.execute_reply.started": "2022-04-24T23:41:17.680658Z"
    },
    "papermill": {
     "duration": 0.058565,
     "end_time": "2022-04-24T23:44:22.780834",
     "exception": false,
     "start_time": "2022-04-24T23:44:22.722269",
     "status": "completed"
    },
    "tags": []
   },
   "outputs": [
    {
     "name": "stdout",
     "output_type": "stream",
     "text": [
      "3.7.12 | packaged by conda-forge | (default, Oct 26 2021, 06:08:53) \n",
      "[GCC 9.4.0]\n",
      "/kaggle/input/lstmfile/ckpt_.data-00000-of-00001\n",
      "/kaggle/input/lstmfile/LSTM.tflite\n",
      "/kaggle/input/lstmfile/tokenizer.pickle\n",
      "/kaggle/input/lstmfile/ckpt_.index\n",
      "/kaggle/input/lstmfile/simplified_model.h5\n",
      "/kaggle/input/lstmfile/baselineModel.h5\n",
      "/kaggle/input/lstmfile/checkpoint\n",
      "/kaggle/input/recursivebasefile1/encodedNew.csv\n",
      "/kaggle/input/recursivebasefile1/tokenizer.pickle\n",
      "/kaggle/input/recursivebasefile1/baselineModel.h5\n",
      "/kaggle/input/newencoded/encodedNew.csv\n",
      "/kaggle/input ['lstmfile', 'recursivebasefile1', 'newencoded']\n",
      "/kaggle/input/lstmfile []\n",
      "/kaggle/input/recursivebasefile1 []\n",
      "/kaggle/input/newencoded []\n"
     ]
    }
   ],
   "source": [
    "#!pip list\n",
    "\n",
    "\n",
    "import sys\n",
    "print(sys.version)\n",
    "\n",
    "\n",
    "\n",
    "# This Python 3 environment comes with many helpful analytics libraries installed\n",
    "# It is defined by the kaggle/python Docker image: https://github.com/kaggle/docker-python\n",
    "# For example, here's several helpful packages to load\n",
    "import numpy as np # linear algebra\n",
    "import pandas as pd # data processing, CSV file I/O (e.g. pd.read_csv)\n",
    "\n",
    "# Input data files are available in the read-only \"../input/\" directory\n",
    "# For example, running this (by clicking run or pressing Shift+Enter) will list all files under the input directory\n",
    "\n",
    "import os\n",
    "for dirname, _, filenames in os.walk('/kaggle/input'):\n",
    "    for filename in filenames:\n",
    "        print(os.path.join(dirname, filename))\n",
    "\n",
    "# You can write up to 20GB to the current directory (/kaggle/working/) that gets preserved as output when you create a version using \"Save & Run All\" \n",
    "# You can also write temporary files to /kaggle/temp/, but they won't be saved outside of the current session\n",
    "\n",
    "\n",
    "count = 0\n",
    "for root, folders, filenames in os.walk('/kaggle/input'):\n",
    "   print(root, folders)"
   ]
  },
  {
   "cell_type": "code",
   "execution_count": 2,
   "id": "f2f3ffa4",
   "metadata": {
    "execution": {
     "iopub.execute_input": "2022-04-24T23:44:22.838591Z",
     "iopub.status.busy": "2022-04-24T23:44:22.837827Z",
     "iopub.status.idle": "2022-04-24T23:44:22.839768Z",
     "shell.execute_reply": "2022-04-24T23:44:22.840244Z",
     "shell.execute_reply.started": "2022-04-24T23:41:17.72239Z"
    },
    "papermill": {
     "duration": 0.032852,
     "end_time": "2022-04-24T23:44:22.840366",
     "exception": false,
     "start_time": "2022-04-24T23:44:22.807514",
     "status": "completed"
    },
    "tags": []
   },
   "outputs": [],
   "source": [
    "def build_model(vocab_size, embedding_dim, rnn_units, batch_size):\n",
    "    model = tf.keras.models.Sequential()\n",
    "    model.add(tf.keras.layers.Embedding(\n",
    "        input_dim=vocab_size,\n",
    "        output_dim=embedding_dim,\n",
    "        batch_input_shape=[batch_size, None]\n",
    "    ))\n",
    "    model.add(tf.keras.layers.LSTM(\n",
    "        units=rnn_units,\n",
    "        return_sequences=True,\n",
    "        stateful=True, #look into this causing the issue potentially, originally was True\n",
    "        recurrent_initializer=tf.keras.initializers.GlorotNormal() #used to be be tf.keras.initializers.GlorotNormal() before downgradingf\n",
    "    )) # temp removed\n",
    "    model.add(tf.keras.layers.Dense(vocab_size))\n",
    "    \n",
    "    return model"
   ]
  },
  {
   "cell_type": "code",
   "execution_count": 3,
   "id": "1bb1d52a",
   "metadata": {
    "execution": {
     "iopub.execute_input": "2022-04-24T23:44:22.894717Z",
     "iopub.status.busy": "2022-04-24T23:44:22.894193Z",
     "iopub.status.idle": "2022-04-24T23:44:28.046239Z",
     "shell.execute_reply": "2022-04-24T23:44:28.045356Z",
     "shell.execute_reply.started": "2022-04-24T23:41:17.730401Z"
    },
    "papermill": {
     "duration": 5.180557,
     "end_time": "2022-04-24T23:44:28.046372",
     "exception": false,
     "start_time": "2022-04-24T23:44:22.865815",
     "status": "completed"
    },
    "tags": []
   },
   "outputs": [],
   "source": [
    "#imports\n",
    "import numpy as np # linear algebra\n",
    "import pandas as pd # data processing, CSV file I/O (e.g. pd.read_csv)\n",
    "import tensorflow as tf # ML/DL\n",
    "import keras\n",
    "from keras.models import Sequential\n",
    "from tensorflow.keras.layers import LSTM\n",
    "from keras.layers import Activation, Dense, Dropout\n",
    "import matplotlib.pyplot as plt\n",
    "import tqdm\n",
    "import pickle\n",
    "\n",
    "#tf.compat.v1.enable_eager_execution()\n",
    "import tensorflow_addons as tfa\n",
    "#import coremltools as ct"
   ]
  },
  {
   "cell_type": "code",
   "execution_count": 4,
   "id": "9e550dbc",
   "metadata": {
    "execution": {
     "iopub.execute_input": "2022-04-24T23:44:28.101376Z",
     "iopub.status.busy": "2022-04-24T23:44:28.100612Z",
     "iopub.status.idle": "2022-04-24T23:44:28.127762Z",
     "shell.execute_reply": "2022-04-24T23:44:28.128231Z",
     "shell.execute_reply.started": "2022-04-24T23:41:22.716649Z"
    },
    "papermill": {
     "duration": 0.056887,
     "end_time": "2022-04-24T23:44:28.128379",
     "exception": false,
     "start_time": "2022-04-24T23:44:28.071492",
     "status": "completed"
    },
    "tags": []
   },
   "outputs": [
    {
     "data": {
      "text/html": [
       "<div>\n",
       "<style scoped>\n",
       "    .dataframe tbody tr th:only-of-type {\n",
       "        vertical-align: middle;\n",
       "    }\n",
       "\n",
       "    .dataframe tbody tr th {\n",
       "        vertical-align: top;\n",
       "    }\n",
       "\n",
       "    .dataframe thead th {\n",
       "        text-align: right;\n",
       "    }\n",
       "</style>\n",
       "<table border=\"1\" class=\"dataframe\">\n",
       "  <thead>\n",
       "    <tr style=\"text-align: right;\">\n",
       "      <th></th>\n",
       "      <th>Unnamed: 0</th>\n",
       "      <th>Unnamed: 0.1</th>\n",
       "      <th>Unnamed: 0.1.1</th>\n",
       "      <th>d/l</th>\n",
       "      <th>pu</th>\n",
       "      <th>tpu</th>\n",
       "      <th>rpu</th>\n",
       "      <th>su</th>\n",
       "      <th>tsu</th>\n",
       "      <th>rsu</th>\n",
       "      <th>sq</th>\n",
       "      <th>tsq</th>\n",
       "      <th>rsq</th>\n",
       "      <th>bp</th>\n",
       "      <th>tbp</th>\n",
       "      <th>rbp</th>\n",
       "    </tr>\n",
       "  </thead>\n",
       "  <tbody>\n",
       "    <tr>\n",
       "      <th>0</th>\n",
       "      <td>352</td>\n",
       "      <td>1320</td>\n",
       "      <td>1479</td>\n",
       "      <td>1</td>\n",
       "      <td>94</td>\n",
       "      <td>30</td>\n",
       "      <td>7</td>\n",
       "      <td>9</td>\n",
       "      <td>50</td>\n",
       "      <td>6</td>\n",
       "      <td>7</td>\n",
       "      <td>60</td>\n",
       "      <td>1</td>\n",
       "      <td>8</td>\n",
       "      <td>55</td>\n",
       "      <td>21</td>\n",
       "    </tr>\n",
       "    <tr>\n",
       "      <th>1</th>\n",
       "      <td>305</td>\n",
       "      <td>792</td>\n",
       "      <td>1009</td>\n",
       "      <td>4</td>\n",
       "      <td>170</td>\n",
       "      <td>45</td>\n",
       "      <td>4</td>\n",
       "      <td>29</td>\n",
       "      <td>40</td>\n",
       "      <td>18</td>\n",
       "      <td>8</td>\n",
       "      <td>10</td>\n",
       "      <td>55</td>\n",
       "      <td>24</td>\n",
       "      <td>30</td>\n",
       "      <td>12</td>\n",
       "    </tr>\n",
       "    <tr>\n",
       "      <th>2</th>\n",
       "      <td>607</td>\n",
       "      <td>883</td>\n",
       "      <td>1466</td>\n",
       "      <td>3</td>\n",
       "      <td>36</td>\n",
       "      <td>10</td>\n",
       "      <td>57</td>\n",
       "      <td>14</td>\n",
       "      <td>25</td>\n",
       "      <td>49</td>\n",
       "      <td>11</td>\n",
       "      <td>20</td>\n",
       "      <td>36</td>\n",
       "      <td>12</td>\n",
       "      <td>20</td>\n",
       "      <td>7</td>\n",
       "    </tr>\n",
       "    <tr>\n",
       "      <th>3</th>\n",
       "      <td>509</td>\n",
       "      <td>1244</td>\n",
       "      <td>528</td>\n",
       "      <td>2</td>\n",
       "      <td>34</td>\n",
       "      <td>10</td>\n",
       "      <td>59</td>\n",
       "      <td>10</td>\n",
       "      <td>30</td>\n",
       "      <td>34</td>\n",
       "      <td>13</td>\n",
       "      <td>35</td>\n",
       "      <td>13</td>\n",
       "      <td>25</td>\n",
       "      <td>65</td>\n",
       "      <td>1</td>\n",
       "    </tr>\n",
       "    <tr>\n",
       "      <th>4</th>\n",
       "      <td>657</td>\n",
       "      <td>910</td>\n",
       "      <td>1305</td>\n",
       "      <td>2</td>\n",
       "      <td>84</td>\n",
       "      <td>25</td>\n",
       "      <td>2</td>\n",
       "      <td>21</td>\n",
       "      <td>60</td>\n",
       "      <td>19</td>\n",
       "      <td>9</td>\n",
       "      <td>25</td>\n",
       "      <td>28</td>\n",
       "      <td>10</td>\n",
       "      <td>25</td>\n",
       "      <td>7</td>\n",
       "    </tr>\n",
       "  </tbody>\n",
       "</table>\n",
       "</div>"
      ],
      "text/plain": [
       "   Unnamed: 0  Unnamed: 0.1  Unnamed: 0.1.1  d/l   pu  tpu  rpu  su  tsu  rsu  \\\n",
       "0         352          1320            1479    1   94   30    7   9   50    6   \n",
       "1         305           792            1009    4  170   45    4  29   40   18   \n",
       "2         607           883            1466    3   36   10   57  14   25   49   \n",
       "3         509          1244             528    2   34   10   59  10   30   34   \n",
       "4         657           910            1305    2   84   25    2  21   60   19   \n",
       "\n",
       "   sq  tsq  rsq  bp  tbp  rbp  \n",
       "0   7   60    1   8   55   21  \n",
       "1   8   10   55  24   30   12  \n",
       "2  11   20   36  12   20    7  \n",
       "3  13   35   13  25   65    1  \n",
       "4   9   25   28  10   25    7  "
      ]
     },
     "execution_count": 4,
     "metadata": {},
     "output_type": "execute_result"
    }
   ],
   "source": [
    "#try: #for recursive model training\n",
    "#    df = pd.read_csv(os.path.join('./WORKING'))\n",
    "#    print('Wokrgin')\n",
    "#except:\n",
    "df = pd.read_csv(os.path.join('../input/recursivebasefile1/encodedNew.csv'))\n",
    "#OG DATAFRAME\n",
    "df.head()"
   ]
  },
  {
   "cell_type": "code",
   "execution_count": 5,
   "id": "fe03a265",
   "metadata": {
    "execution": {
     "iopub.execute_input": "2022-04-24T23:44:28.192524Z",
     "iopub.status.busy": "2022-04-24T23:44:28.187827Z",
     "iopub.status.idle": "2022-04-24T23:44:28.208862Z",
     "shell.execute_reply": "2022-04-24T23:44:28.208451Z",
     "shell.execute_reply.started": "2022-04-24T23:41:22.752164Z"
    },
    "papermill": {
     "duration": 0.054804,
     "end_time": "2022-04-24T23:44:28.208961",
     "exception": false,
     "start_time": "2022-04-24T23:44:28.154157",
     "status": "completed"
    },
    "tags": []
   },
   "outputs": [],
   "source": [
    "import random\n",
    "\n",
    "def alterRange(pu,tpu): #THE MODEL DOESNT CONTAIN ALL THE VOCAB WE ARE ASKING IT TO, EITHER MAP TO CLOSEST VOCAB OR RETAIN THE MOBEL ON MORE POSSIBLE NUMBER\n",
    "    mul = pu/tpu\n",
    "    alterMul = mul - 1.0 #should be 0.03 but ill make it 0.5 for now\n",
    "    if alterMul < 0.1:\n",
    "        alterMul = 0.1\n",
    "    pu = alterMul * tpu  \n",
    "    return int(float(pu))\n",
    "\n",
    "\n",
    "def generateAction(diffLevel):\n",
    "    if diffLevel == 5: \n",
    "        multiplier = random.uniform(0.9,1)\n",
    "        tpa = random.randrange(10,80,5)\n",
    "        numActions = int(tpa * multiplier)\n",
    "        rpa = random.randrange(0,80-int(tpa))\n",
    "    elif diffLevel == 4: \n",
    "        multiplier = random.uniform(0.7,0.8)\n",
    "        tpa = random.randrange(10,80,5)\n",
    "        numActions = int(tpa * multiplier)\n",
    "        rpa = random.randrange(0,80-int(tpa))\n",
    "        rpa = random.randrange(0,80-int(tpa))\n",
    "    elif diffLevel == 3: \n",
    "        multiplier = random.uniform(0.5,0.6)\n",
    "        tpa = random.randrange(10,80,5)\n",
    "        numActions = int(tpa * multiplier)\n",
    "        rpa = random.randrange(0,80-int(tpa))\n",
    "        rpa = random.randrange(0,80-int(tpa))\n",
    "    elif diffLevel == 2: \n",
    "        multiplier = random.uniform(0.3,0.4)\n",
    "        tpa = random.randrange(10,80,5)\n",
    "        numActions = int(tpa * multiplier)\n",
    "        rpa = random.randrange(0,80-int(tpa))\n",
    "        rpa = random.randrange(0,80-int(tpa))\n",
    "    elif diffLevel == 1: \n",
    "        multiplier = random.uniform(0.1,0.2)\n",
    "        tpa = random.randrange(10,80,5)\n",
    "        numActions = int(tpa * multiplier)\n",
    "        rpa = random.randrange(0,80-int(tpa))\n",
    "    return tpa,numActions,rpa\n",
    "\n",
    "def generateExamples(diffLevel, alter=False):\n",
    "    if diffLevel == 5: \n",
    "        tpu,pu,rpu = generateAction(5)\n",
    "        tsu,su,rsu = generateAction(5)\n",
    "        tsq,sq,rsq = generateAction(5)\n",
    "        tbp,bp,rbp = generateAction(5)\n",
    "        print(pu)\n",
    "        #temp\n",
    "        if(alter == True):\n",
    "            pu = alterRange(pu,tpu)\n",
    "        #temp\n",
    "        print(pu)\n",
    "        outputStr = (str(diffLevel) + \"-DL:~\" + str(pu) + \"~\" + str(tpu) + \"~\" + str(rpu) + \"~\" + str(su) + \"~\" + str(tsu) + \"~\" + str(rsu) + \"~\" + str(sq) + \"~\" + str(tsq) + \"~\" + str(rsq) + \"~\"  +  str(bp) + \"~\" + str(tbp) + \"~\" + str(rbp) + \"~\" + \"␣\" )\n",
    "        #outputStr = (str(diffLevel) + \"-DL:~\" + str(pu) + \"~\" + str(tpu) + \"~\" + str(rpu) + \"~\" + str(su) + \"~\" + str(tsu) + \"~\" + str(rsu) + \"~\" + str(sq) + \"~\" + str(tsq) + \"~\" + str(rsq) + \"~\" + \"␣\" )\n",
    "    elif diffLevel == 4: \n",
    "        tpu,pu,rpu = generateAction(4)\n",
    "        tsu,su,rsu = generateAction(4)\n",
    "        tsq,sq,rsq = generateAction(4)\n",
    "        tbp,bp,rbp = generateAction(4)\n",
    "        outputStr = (str(diffLevel) + \"-DL:~\" + str(pu) + \"~\" + str(tpu) + \"~\" + str(rpu) + \"~\" + str(su) + \"~\" + str(tsu) + \"~\" + str(rsu) + \"~\" + str(sq) + \"~\" + str(tsq) + \"~\" + str(rsq) + \"~\"  +  str(bp) + \"~\" + str(tbp) + \"~\" + str(rbp) + \"~\" + \"␣\" )\n",
    "    elif diffLevel == 3: \n",
    "        tpu,pu,rpu = generateAction(3)\n",
    "        tsu,su,rsu = generateAction(3)\n",
    "        tsq,sq,rsq = generateAction(3)\n",
    "        tbp,bp,rbp = generateAction(3)\n",
    "        outputStr = (str(diffLevel) + \"-DL:~\" + str(pu) + \"~\" + str(tpu) + \"~\" + str(rpu) + \"~\" + str(su) + \"~\" + str(tsu) + \"~\" + str(rsu) + \"~\" + str(sq) + \"~\" + str(tsq) + \"~\" + str(rsq) + \"~\"  +  str(bp) + \"~\" + str(tbp) + \"~\" + str(rbp) + \"~\" + \"␣\" )\n",
    "    elif diffLevel == 2: \n",
    "        tpu,pu,rpu = generateAction(2)\n",
    "        tsu,su,rsu = generateAction(2)\n",
    "        tsq,sq,rsq = generateAction(2)\n",
    "        tbp,bp,rbp = generateAction(2)\n",
    "        outputStr = (str(diffLevel) + \"-DL:~\" + str(pu) + \"~\" + str(tpu) + \"~\" + str(rpu) + \"~\" + str(su) + \"~\" + str(tsu) + \"~\" + str(rsu) + \"~\" + str(sq) + \"~\" + str(tsq) + \"~\" + str(rsq) + \"~\"  +  str(bp) + \"~\" + str(tbp) + \"~\" + str(rbp) + \"~\" + \"␣\" )\n",
    "    elif diffLevel == 1: \n",
    "        tpu,pu,rpu = generateAction(1)\n",
    "        tsu,su,rsu = generateAction(1)\n",
    "        tsq,sq,rsq = generateAction(1)\n",
    "        tbp,bp,rbp = generateAction(1)\n",
    "        outputStr = (str(diffLevel) + \"-DL:~\" + str(pu) + \"~\" + str(tpu) + \"~\" + str(rpu) + \"~\" + str(su) + \"~\" + str(tsu) + \"~\" + str(rsu) + \"~\" + str(sq) + \"~\" + str(tsq) + \"~\" + str(rsq) + \"~\"  +  str(bp) + \"~\" + str(tbp) + \"~\" + str(rbp) + \"~\" + \"␣\" )\n",
    "    return outputStr\n",
    "    \n",
    "    \n",
    "\n",
    "        \n",
    "    "
   ]
  },
  {
   "cell_type": "code",
   "execution_count": 6,
   "id": "81e96686",
   "metadata": {
    "execution": {
     "iopub.execute_input": "2022-04-24T23:44:28.272132Z",
     "iopub.status.busy": "2022-04-24T23:44:28.271446Z",
     "iopub.status.idle": "2022-04-24T23:44:29.974323Z",
     "shell.execute_reply": "2022-04-24T23:44:29.973663Z",
     "shell.execute_reply.started": "2022-04-24T23:41:22.780747Z"
    },
    "papermill": {
     "duration": 1.740941,
     "end_time": "2022-04-24T23:44:29.974487",
     "exception": false,
     "start_time": "2022-04-24T23:44:28.233546",
     "status": "completed"
    },
    "tags": []
   },
   "outputs": [
    {
     "name": "stdout",
     "output_type": "stream",
     "text": [
      "   Unnamed: 0  Unnamed: 0.1  Unnamed: 0.1.1  d/l   pu  tpu  rpu  su  tsu  rsu  \\\n",
      "0         352          1320            1479    1   94   30    7   9   50    6   \n",
      "1         305           792            1009    4  170   45    4  29   40   18   \n",
      "2         607           883            1466    3   36   10   57  14   25   49   \n",
      "3         509          1244             528    2   34   10   59  10   30   34   \n",
      "4         657           910            1305    2   84   25    2  21   60   19   \n",
      "\n",
      "   sq  tsq  rsq  bp  tbp  rbp  \n",
      "0   7   60    1   8   55   21  \n",
      "1   8   10   55  24   30   12  \n",
      "2  11   20   36  12   20    7  \n",
      "3  13   35   13  25   65    1  \n",
      "4   9   25   28  10   25    7  \n",
      "      Unnamed: 0  Unnamed: 0.1  Unnamed: 0.1.1  d/l   pu  tpu  rpu  su  tsu  \\\n",
      "712          680          1141             367    1  255   80    0   7   60   \n",
      "138          897          1045            1004    1  189   60    8   5   30   \n",
      "1196         449           201              83    1   32   10   55   3   15   \n",
      "1081         117           290              49    2  183   55   24  20   60   \n",
      "972          762           539            1290    3  234   65   11  36   65   \n",
      "\n",
      "      rsu  sq  tsq  rsq  bp  tbp  rbp  \n",
      "712     4  12   75    4   4   20   22  \n",
      "138     8   3   20   12   7   55   22  \n",
      "1196   27   2   10   57   9   55   23  \n",
      "1081   12  14   35   33  21   65    1  \n",
      "972    10   8   15    4  21   35   40  \n",
      "      Unnamed: 0  Unnamed: 0.1  Unnamed: 0.1.1  d/l   pu  tpu  rpu  su  tsu  \\\n",
      "712          680          1141             367    1  175   80    0   7   60   \n",
      "138          897          1045            1004    1  129   60    8   5   30   \n",
      "1196         449           201              83    1   22   10   55   3   15   \n",
      "1081         117           290              49    2  128   55   24  20   60   \n",
      "972          762           539            1290    3  169   65   11  36   65   \n",
      "\n",
      "      rsu  sq  tsq  rsq  bp  tbp  rbp  \n",
      "712     4  12   75    4   4   20   22  \n",
      "138     8   3   20   12   7   55   22  \n",
      "1196   27   2   10   57   9   55   23  \n",
      "1081   12  14   35   33  21   65    1  \n",
      "972    10   8   15    4  21   35   40  \n"
     ]
    }
   ],
   "source": [
    "from pathlib import Path  \n",
    "STOP_SIGN = \"␣\"   \n",
    "allWorkoutsString = []\n",
    "stringVocab = []\n",
    "\n",
    "#import random\n",
    "\n",
    "\n",
    "##NEW SHUFFLING TO FIX POOR EARLY PERFORMANCE\n",
    "print(df.head())\n",
    "df = df.sample(frac = 1)\n",
    "print(df.head())\n",
    "##NEW SHUFFLING TO FIX POOR EARLY PERFORMANCE\n",
    "\n",
    "for i in range(len(df)):\n",
    "    df.iloc[i][\"pu\"] = alterRange(df.iloc[i][\"pu\"],df.iloc[i][\"tpu\"]) #right now it overall makes pu way more diffiuclt\n",
    "    workout = (str(df.iloc[i][\"d/l\"]) + \"-DL:~\" + str(df.iloc[i][\"pu\"]) + \"~\" + str(df.iloc[i][\"tpu\"]) + \"~\" + str(df.iloc[i][\"rpu\"]) + \"~\" + str(df.iloc[i][\"su\"]) + \"~\" + str(df.iloc[i][\"tsu\"]) + \"~\" + str(df.iloc[i][\"rsu\"]) + \"~\" + str(df.iloc[i][\"sq\"]) + \"~\" + str(df.iloc[i][\"tsq\"]) + \"~\" + str(df.iloc[i][\"rsq\"]) + \"~\"  +  str(df.iloc[i][\"bp\"]) + \"~\" + str(df.iloc[i][\"tbp\"]) + \"~\" + str(df.iloc[i][\"rbp\"]) + \"~\" + \"␣\" )\n",
    "    allWorkoutsString.append(workout)\n",
    "    #stringVocab.append(workout)\n",
    "      \n",
    "print(df.head())    \n",
    "\n",
    "filepath = Path('new/encodedNew.csv')  \n",
    "filepath.parent.mkdir(parents=True, exist_ok=True)  \n",
    "    \n",
    "df.to_csv(filepath)\n",
    "#\n",
    "#for z in range(50):   \n",
    "    #allWorkoutsString.append(generateExamples(5,True))\n",
    "    #allWorkoutsString.append(generateExamples(4))\n",
    "    #allWorkoutsString.append(generateExamples(3))\n",
    "    #allWorkoutsString.append(generateExamples(2))\n",
    "    #allWorkoutsString.append(generateExamples(1))\n",
    "    \n",
    "#allWorkoutsString.append(generateExamples(5,True))\n",
    "\n"
   ]
  },
  {
   "cell_type": "code",
   "execution_count": 7,
   "id": "7648713c",
   "metadata": {
    "execution": {
     "iopub.execute_input": "2022-04-24T23:44:30.040045Z",
     "iopub.status.busy": "2022-04-24T23:44:30.039325Z",
     "iopub.status.idle": "2022-04-24T23:44:30.041831Z",
     "shell.execute_reply": "2022-04-24T23:44:30.041421Z",
     "shell.execute_reply.started": "2022-04-24T23:41:24.963772Z"
    },
    "papermill": {
     "duration": 0.039053,
     "end_time": "2022-04-24T23:44:30.041930",
     "exception": false,
     "start_time": "2022-04-24T23:44:30.002877",
     "status": "completed"
    },
    "tags": []
   },
   "outputs": [],
   "source": [
    "def decodeWorkout(input):    \n",
    "    c = input.split(\"~\")\n",
    "    if(len(c) == 5):\n",
    "        pushupStr = str(c[0] + \"\\n\" + c[1] + \" pushups for \" + c[2] + \" seconds with \" + c[3] + \" second rest \")\n",
    "        outputStr = (pushupStr)\n",
    "    elif(len(c) == 8):\n",
    "        pushupStr = str(c[0] + \"\\n\" + c[1] + \" pushups for \" + c[2] + \" seconds with \" + c[3] + \" second rest \")\n",
    "        situpStr = str(\"\\n\" + c[4] + \" situps for \" + c[5] + \" seconds with \" + c[6] + \" second rest \")\n",
    "        outputStr = (pushupStr + situpStr)\n",
    "    elif(len(c)==11):\n",
    "        pushupStr = str(c[0] + \"\\n\" + c[1] + \" pushups for \" + c[2] + \" seconds with \" + c[3] + \" second rest \")\n",
    "        situpStr = str(\"\\n\" + c[4] + \" situps for \" + c[5] + \" seconds with \" + c[6] + \" second rest \")\n",
    "        squatStr = str(\"\\n\" + c[7] + \" squats for \" + c[8] + \" seconds with \" + c[9] + \" second rest \")\n",
    "        outputStr = (pushupStr + situpStr + squatStr)\n",
    "    elif(len(c) == 14):\n",
    "        pushupStr = str(c[0] + \"\\n\" + c[1] + \" pushups for \" + c[2] + \" seconds with \" + c[3] + \" second rest \")\n",
    "        situpStr = str(\"\\n\" + c[4] + \" situps for \" + c[5] + \" seconds with \" + c[6] + \" second rest \")\n",
    "        squatStr = str(\"\\n\" + c[7] + \" squats for \" + c[8] + \" seconds with \" + c[9] + \" second rest \")\n",
    "        burpeeStr = str(\"\\n\" + c[10] + \" burpees for \" + c[11] + \" seconds with \" + c[12] + \" second rest \")\n",
    "        outputStr = (pushupStr + situpStr + squatStr + burpeeStr)\n",
    "    else:\n",
    "        outputStr = \"fail\"\n",
    "    \n",
    "    return outputStr\n",
    "#for i in range(15) :\n",
    "#        print(decodeWorkout(allWorkoutsString[i]))\n"
   ]
  },
  {
   "cell_type": "code",
   "execution_count": 8,
   "id": "501951ca",
   "metadata": {
    "execution": {
     "iopub.execute_input": "2022-04-24T23:44:30.097852Z",
     "iopub.status.busy": "2022-04-24T23:44:30.097253Z",
     "iopub.status.idle": "2022-04-24T23:44:30.120604Z",
     "shell.execute_reply": "2022-04-24T23:44:30.119981Z",
     "shell.execute_reply.started": "2022-04-24T23:41:24.980402Z"
    },
    "papermill": {
     "duration": 0.053406,
     "end_time": "2022-04-24T23:44:30.120739",
     "exception": false,
     "start_time": "2022-04-24T23:44:30.067333",
     "status": "completed"
    },
    "tags": []
   },
   "outputs": [
    {
     "name": "stdout",
     "output_type": "stream",
     "text": [
      "{'num_words': None, 'filters': '', 'lower': False, 'split': '', 'char_level': True, 'oov_token': None, 'document_count': 1500, 'word_counts': '{\"5\": 5707, \"-\": 1500, \"D\": 1500, \"L\": 1500, \":\": 1500, \"~\": 19500, \"2\": 4330, \"7\": 1901, \"3\": 3542, \"0\": 4869, \"1\": 4829, \"6\": 2221, \"4\": 3507, \"\\\\u2423\": 1500, \"9\": 1132, \"8\": 1554}', 'word_docs': '{\"5\": 1472, \"~\": 1500, \"L\": 1500, \"0\": 1479, \"1\": 1435, \"6\": 1182, \"-\": 1500, \"3\": 1347, \":\": 1500, \"4\": 1360, \"2\": 1406, \"7\": 1095, \"\\\\u2423\": 1500, \"D\": 1500, \"9\": 835, \"8\": 1005}', 'index_docs': '{\"2\": 1472, \"1\": 1500, \"13\": 1500, \"3\": 1479, \"4\": 1435, \"8\": 1182, \"11\": 1500, \"6\": 1347, \"14\": 1500, \"7\": 1360, \"5\": 1406, \"9\": 1095, \"15\": 1500, \"12\": 1500, \"16\": 835, \"10\": 1005}', 'index_word': '{\"1\": \"~\", \"2\": \"5\", \"3\": \"0\", \"4\": \"1\", \"5\": \"2\", \"6\": \"3\", \"7\": \"4\", \"8\": \"6\", \"9\": \"7\", \"10\": \"8\", \"11\": \"-\", \"12\": \"D\", \"13\": \"L\", \"14\": \":\", \"15\": \"\\\\u2423\", \"16\": \"9\"}', 'word_index': '{\"~\": 1, \"5\": 2, \"0\": 3, \"1\": 4, \"2\": 5, \"3\": 6, \"4\": 7, \"6\": 8, \"7\": 9, \"8\": 10, \"-\": 11, \"D\": 12, \"L\": 13, \":\": 14, \"\\\\u2423\": 15, \"9\": 16}'}\n",
      "Vectorized dataset size 1500\n",
      "[[3]]\n",
      "[[4]]\n",
      "[[5]]\n",
      "[[6]]\n",
      "[[7]]\n",
      "[[2]]\n",
      "[[8]]\n",
      "[[9]]\n",
      "[[10]]\n",
      "[[16]]\n"
     ]
    }
   ],
   "source": [
    "#encoding each of the characters into integers so the model can understand -> paying special attention to the stop_sign\n",
    "import pickle\n",
    "\n",
    "with open('../input/lstmfile/tokenizer.pickle', 'rb') as handle:\n",
    "    tokenizer = pickle.load(handle)\n",
    "\n",
    "\n",
    "print(tokenizer.get_config())\n",
    "VOCABULARY_SIZE = len(tokenizer.word_counts) + 1 \n",
    "\n",
    "dataset_vectorized = tokenizer.texts_to_sequences(allWorkoutsString)\n",
    "print('Vectorized dataset size', len(dataset_vectorized))\n",
    "\n",
    "\n",
    "for i in range(10):\n",
    "    print(tokenizer.texts_to_sequences([f\"{i}\"]))\n",
    "\n"
   ]
  },
  {
   "cell_type": "code",
   "execution_count": 9,
   "id": "855abb79",
   "metadata": {
    "execution": {
     "iopub.execute_input": "2022-04-24T23:44:30.179405Z",
     "iopub.status.busy": "2022-04-24T23:44:30.178654Z",
     "iopub.status.idle": "2022-04-24T23:44:30.182944Z",
     "shell.execute_reply": "2022-04-24T23:44:30.182557Z",
     "shell.execute_reply.started": "2022-04-24T23:41:25.015584Z"
    },
    "papermill": {
     "duration": 0.035444,
     "end_time": "2022-04-24T23:44:30.183086",
     "exception": false,
     "start_time": "2022-04-24T23:44:30.147642",
     "status": "completed"
    },
    "tags": []
   },
   "outputs": [
    {
     "name": "stdout",
     "output_type": "stream",
     "text": [
      "1500\n",
      "44\n"
     ]
    }
   ],
   "source": [
    "#add padding to ensure same length --- only if all are not the sane length\n",
    "print(len(dataset_vectorized))\n",
    "maxLength = 0\n",
    "for workout_index, workout in enumerate(dataset_vectorized[:len(dataset_vectorized)]):\n",
    "    #if(len(workout)) != 167:\n",
    "    if(maxLength < len(workout)):\n",
    "        #print('Workout #{} length: {}'.format(workout_index + 1, len(workout)))\n",
    "        maxLength = len(workout)\n",
    "#padding is required\n",
    "print(maxLength)"
   ]
  },
  {
   "cell_type": "code",
   "execution_count": 10,
   "id": "f372b110",
   "metadata": {
    "execution": {
     "iopub.execute_input": "2022-04-24T23:44:30.238742Z",
     "iopub.status.busy": "2022-04-24T23:44:30.237902Z",
     "iopub.status.idle": "2022-04-24T23:44:30.243403Z",
     "shell.execute_reply": "2022-04-24T23:44:30.242940Z",
     "shell.execute_reply.started": "2022-04-24T23:41:25.027668Z"
    },
    "papermill": {
     "duration": 0.03413,
     "end_time": "2022-04-24T23:44:30.243508",
     "exception": false,
     "start_time": "2022-04-24T23:44:30.209378",
     "status": "completed"
    },
    "tags": []
   },
   "outputs": [
    {
     "name": "stdout",
     "output_type": "stream",
     "text": [
      "1 - D L : ~ 1 7 5 ~ 8 0 ~ 0 ~ 7 ~ 6 0 ~ 4 ~ 1 2 ~ 7 5 ~ 4 ~ 4 ~ 2 0 ~ 2 2 ~ ␣\n"
     ]
    }
   ],
   "source": [
    "def decodeVector(vector):\n",
    "    decodedWorkout = tokenizer.sequences_to_texts([vector])[0]\n",
    "    print(decodedWorkout)\n",
    "    \n",
    "#basic test to see if the decoder is working\n",
    "decodeVector(dataset_vectorized[0])"
   ]
  },
  {
   "cell_type": "code",
   "execution_count": 11,
   "id": "555d067d",
   "metadata": {
    "execution": {
     "iopub.execute_input": "2022-04-24T23:44:30.304601Z",
     "iopub.status.busy": "2022-04-24T23:44:30.300840Z",
     "iopub.status.idle": "2022-04-24T23:44:30.325581Z",
     "shell.execute_reply": "2022-04-24T23:44:30.325150Z",
     "shell.execute_reply.started": "2022-04-24T23:41:25.0356Z"
    },
    "papermill": {
     "duration": 0.054974,
     "end_time": "2022-04-24T23:44:30.325681",
     "exception": false,
     "start_time": "2022-04-24T23:44:30.270707",
     "status": "completed"
    },
    "tags": []
   },
   "outputs": [
    {
     "name": "stdout",
     "output_type": "stream",
     "text": [
      "1 - D L : ~ 1 7 5 ~ 8 0 ~ 0 ~ 7 ~ 6 0 ~ 4 ~ 1 2 ~ 7 5 ~ 4 ~ 4 ~ 2 0 ~ 2 2 ~ ␣\n"
     ]
    }
   ],
   "source": [
    "dataset_vectorized_padded_without_stops = tf.keras.preprocessing.sequence.pad_sequences(\n",
    "    dataset_vectorized,\n",
    "    padding='post',\n",
    "    truncating='post',\n",
    "    # We use -1 here and +1 in the next step to make sure\n",
    "    # that all recipes will have at least 1 stops sign at the end,\n",
    "    # since each sequence will be shifted and truncated afterwards\n",
    "    # (to generate X and Y sequences).\n",
    "    maxlen=maxLength-1,\n",
    "    #value=tokenizer.texts_to_sequences([STOP_SIGN])[0] #maybe append here again\n",
    ")\n",
    "dataset_vectorized_padded = tf.keras.preprocessing.sequence.pad_sequences(\n",
    "    dataset_vectorized_padded_without_stops,\n",
    "    padding='post',\n",
    "    truncating='post',\n",
    "    maxlen=maxLength+1,\n",
    "    #value=tokenizer.texts_to_sequences([STOP_SIGN])[0]\n",
    ")\n",
    "\n",
    "for workout_index, workout in enumerate(dataset_vectorized_padded[:len(dataset_vectorized_padded)]):\n",
    "    if(len(workout)) != maxLength+1:\n",
    "        print('Workout #{} length: {}'.format(workout_index + 1, len(workout)))\n",
    "\n",
    "#test it out\n",
    "decodeVector(dataset_vectorized_padded[0])"
   ]
  },
  {
   "cell_type": "code",
   "execution_count": 12,
   "id": "c2c5c6dd",
   "metadata": {
    "execution": {
     "iopub.execute_input": "2022-04-24T23:44:30.550091Z",
     "iopub.status.busy": "2022-04-24T23:44:30.549279Z",
     "iopub.status.idle": "2022-04-24T23:44:32.805620Z",
     "shell.execute_reply": "2022-04-24T23:44:32.804810Z",
     "shell.execute_reply.started": "2022-04-24T23:41:25.071888Z"
    },
    "papermill": {
     "duration": 2.453313,
     "end_time": "2022-04-24T23:44:32.805760",
     "exception": false,
     "start_time": "2022-04-24T23:44:30.352447",
     "status": "completed"
    },
    "tags": []
   },
   "outputs": [
    {
     "name": "stderr",
     "output_type": "stream",
     "text": [
      "2022-04-24 23:44:30.454377: I tensorflow/stream_executor/cuda/cuda_gpu_executor.cc:937] successful NUMA node read from SysFS had negative value (-1), but there must be at least one NUMA node, so returning NUMA node zero\n",
      "2022-04-24 23:44:30.545366: I tensorflow/stream_executor/cuda/cuda_gpu_executor.cc:937] successful NUMA node read from SysFS had negative value (-1), but there must be at least one NUMA node, so returning NUMA node zero\n",
      "2022-04-24 23:44:30.546181: I tensorflow/stream_executor/cuda/cuda_gpu_executor.cc:937] successful NUMA node read from SysFS had negative value (-1), but there must be at least one NUMA node, so returning NUMA node zero\n",
      "2022-04-24 23:44:30.550231: I tensorflow/core/platform/cpu_feature_guard.cc:142] This TensorFlow binary is optimized with oneAPI Deep Neural Network Library (oneDNN) to use the following CPU instructions in performance-critical operations:  AVX2 AVX512F FMA\n",
      "To enable them in other operations, rebuild TensorFlow with the appropriate compiler flags.\n",
      "2022-04-24 23:44:30.551404: I tensorflow/stream_executor/cuda/cuda_gpu_executor.cc:937] successful NUMA node read from SysFS had negative value (-1), but there must be at least one NUMA node, so returning NUMA node zero\n",
      "2022-04-24 23:44:30.552233: I tensorflow/stream_executor/cuda/cuda_gpu_executor.cc:937] successful NUMA node read from SysFS had negative value (-1), but there must be at least one NUMA node, so returning NUMA node zero\n",
      "2022-04-24 23:44:30.552901: I tensorflow/stream_executor/cuda/cuda_gpu_executor.cc:937] successful NUMA node read from SysFS had negative value (-1), but there must be at least one NUMA node, so returning NUMA node zero\n",
      "2022-04-24 23:44:32.461727: I tensorflow/stream_executor/cuda/cuda_gpu_executor.cc:937] successful NUMA node read from SysFS had negative value (-1), but there must be at least one NUMA node, so returning NUMA node zero\n",
      "2022-04-24 23:44:32.462691: I tensorflow/stream_executor/cuda/cuda_gpu_executor.cc:937] successful NUMA node read from SysFS had negative value (-1), but there must be at least one NUMA node, so returning NUMA node zero\n",
      "2022-04-24 23:44:32.463460: I tensorflow/stream_executor/cuda/cuda_gpu_executor.cc:937] successful NUMA node read from SysFS had negative value (-1), but there must be at least one NUMA node, so returning NUMA node zero\n",
      "2022-04-24 23:44:32.464207: I tensorflow/core/common_runtime/gpu/gpu_device.cc:1510] Created device /job:localhost/replica:0/task:0/device:GPU:0 with 15403 MB memory:  -> device: 0, name: Tesla P100-PCIE-16GB, pci bus id: 0000:00:04.0, compute capability: 6.0\n"
     ]
    }
   ],
   "source": [
    "dataset = tf.data.Dataset.from_tensor_slices(dataset_vectorized_padded)"
   ]
  },
  {
   "cell_type": "code",
   "execution_count": 13,
   "id": "331fd21b",
   "metadata": {
    "execution": {
     "iopub.execute_input": "2022-04-24T23:44:32.868838Z",
     "iopub.status.busy": "2022-04-24T23:44:32.868222Z",
     "iopub.status.idle": "2022-04-24T23:44:32.933850Z",
     "shell.execute_reply": "2022-04-24T23:44:32.934898Z",
     "shell.execute_reply.started": "2022-04-24T23:41:27.175018Z"
    },
    "papermill": {
     "duration": 0.100562,
     "end_time": "2022-04-24T23:44:32.935097",
     "exception": false,
     "start_time": "2022-04-24T23:44:32.834535",
     "status": "completed"
    },
    "tags": []
   },
   "outputs": [
    {
     "name": "stdout",
     "output_type": "stream",
     "text": [
      "<MapDataset shapes: ((44,), (44,)), types: (tf.int32, tf.int32)>\n"
     ]
    }
   ],
   "source": [
    "#split processing\n",
    "def split_input_target(workout):\n",
    "    input_text = workout[:-1]\n",
    "    target_text = workout[1:]\n",
    "    \n",
    "    return input_text, target_text\n",
    "dataset_targeted = dataset.map(split_input_target)\n",
    "print(dataset_targeted)"
   ]
  },
  {
   "cell_type": "code",
   "execution_count": 14,
   "id": "10ec39fe",
   "metadata": {
    "execution": {
     "iopub.execute_input": "2022-04-24T23:44:33.007863Z",
     "iopub.status.busy": "2022-04-24T23:44:33.007157Z",
     "iopub.status.idle": "2022-04-24T23:44:33.009388Z",
     "shell.execute_reply": "2022-04-24T23:44:33.009766Z",
     "shell.execute_reply.started": "2022-04-24T23:41:27.248739Z"
    },
    "papermill": {
     "duration": 0.045551,
     "end_time": "2022-04-24T23:44:33.009894",
     "exception": false,
     "start_time": "2022-04-24T23:44:32.964343",
     "status": "completed"
    },
    "tags": []
   },
   "outputs": [],
   "source": [
    "def loss(labels, logits):\n",
    "    entropy = tf.keras.losses.sparse_categorical_crossentropy(\n",
    "      y_true=labels,\n",
    "      y_pred=logits,\n",
    "      from_logits=True\n",
    "    )\n",
    "    \n",
    "    return entropy\n",
    "#compile\n",
    "\n",
    "adam_optimizer = tf.keras.optimizers.Adam(learning_rate=0.001) #used to be 0.001 which worked much better\n",
    "\n",
    "\n",
    "early_stopping_callback = tf.keras.callbacks.EarlyStopping(\n",
    "    patience=5,\n",
    "    monitor='loss',\n",
    "    restore_best_weights=True,\n",
    "    verbose=1\n",
    ")"
   ]
  },
  {
   "cell_type": "code",
   "execution_count": 15,
   "id": "0602ee13",
   "metadata": {
    "execution": {
     "iopub.execute_input": "2022-04-24T23:44:33.071543Z",
     "iopub.status.busy": "2022-04-24T23:44:33.070826Z",
     "iopub.status.idle": "2022-04-24T23:44:33.130293Z",
     "shell.execute_reply": "2022-04-24T23:44:33.129847Z",
     "shell.execute_reply.started": "2022-04-24T23:41:27.256236Z"
    },
    "papermill": {
     "duration": 0.09211,
     "end_time": "2022-04-24T23:44:33.130436",
     "exception": false,
     "start_time": "2022-04-24T23:44:33.038326",
     "status": "completed"
    },
    "tags": []
   },
   "outputs": [],
   "source": [
    "# Create a checkpoints directory. TO SAVE AND CONTINUE TRAINING\n",
    "checkpoint_dir = 'tmp/checkpoints'\n",
    "os.makedirs(checkpoint_dir, exist_ok=True)\n",
    "checkpoint_prefix = os.path.join(checkpoint_dir, 'ckpt_') #used to be ckpt_{epoch}, got rid due to space issues on kaggle\n",
    "checkpoint_callback=tf.keras.callbacks.ModelCheckpoint(\n",
    "    filepath=checkpoint_prefix,\n",
    "    save_weights_only=True\n",
    ")\n",
    "\n",
    "tqdm_callback = tfa.callbacks.TQDMProgressBar()"
   ]
  },
  {
   "cell_type": "code",
   "execution_count": 16,
   "id": "6180dc98",
   "metadata": {
    "execution": {
     "iopub.execute_input": "2022-04-24T23:44:33.191537Z",
     "iopub.status.busy": "2022-04-24T23:44:33.190823Z",
     "iopub.status.idle": "2022-04-24T23:44:34.661733Z",
     "shell.execute_reply": "2022-04-24T23:44:34.660760Z",
     "shell.execute_reply.started": "2022-04-24T23:41:27.323075Z"
    },
    "papermill": {
     "duration": 1.503653,
     "end_time": "2022-04-24T23:44:34.661879",
     "exception": false,
     "start_time": "2022-04-24T23:44:33.158226",
     "status": "completed"
    },
    "tags": []
   },
   "outputs": [],
   "source": [
    "\n",
    "def loss(labels, logits):\n",
    "    entropy = tf.keras.losses.sparse_categorical_crossentropy(\n",
    "      y_true=labels,\n",
    "      y_pred=logits,\n",
    "      from_logits=True\n",
    "    )\n",
    "    \n",
    "    return entropy\n",
    "\n",
    "#OG MODEL\n",
    "#model = keras.models.load_model(\n",
    "#    \"../input/lstmfile/baselineModel.h5\", custom_objects={\"loss\": loss}\n",
    "#)\n",
    "\n",
    "\n",
    "#New recursive approach\n",
    "model = keras.models.load_model(\n",
    "    \"../input/recursivebasefile1/baselineModel.h5\", custom_objects={\"loss\": loss}\n",
    ")\n",
    "\n",
    "\n",
    "#model = keras.models.load_model(\"../input/lstmfile/baselineModel.h5\")\n",
    "\n",
    "\n",
    "model.compile(\n",
    "    optimizer=adam_optimizer,\n",
    "    loss=loss\n",
    ")\n",
    "\n"
   ]
  },
  {
   "cell_type": "code",
   "execution_count": 17,
   "id": "0cedc829",
   "metadata": {
    "execution": {
     "iopub.execute_input": "2022-04-24T23:44:34.723292Z",
     "iopub.status.busy": "2022-04-24T23:44:34.722711Z",
     "iopub.status.idle": "2022-04-24T23:44:34.733260Z",
     "shell.execute_reply": "2022-04-24T23:44:34.732801Z",
     "shell.execute_reply.started": "2022-04-24T23:41:28.565955Z"
    },
    "papermill": {
     "duration": 0.04243,
     "end_time": "2022-04-24T23:44:34.733374",
     "exception": false,
     "start_time": "2022-04-24T23:44:34.690944",
     "status": "completed"
    },
    "tags": []
   },
   "outputs": [
    {
     "name": "stdout",
     "output_type": "stream",
     "text": [
      "<RepeatDataset shapes: ((64, 44), (64, 44)), types: (tf.int32, tf.int32)>\n"
     ]
    }
   ],
   "source": [
    "# Batch size.\n",
    "BATCH_SIZE = 64\n",
    "# Buffer size to shuffle the dataset (TF data is designed to work\n",
    "# with possibly infinite sequences, so it doesn't attempt to shuffle\n",
    "# the entire sequence in memory. Instead, it maintains a buffer in\n",
    "# which it shuffles elements).\n",
    "SHUFFLE_BUFFER_SIZE = 1000\n",
    "dataset_train = dataset_targeted \\\n",
    "  .shuffle(SHUFFLE_BUFFER_SIZE) \\\n",
    "  .batch(BATCH_SIZE, drop_remainder=True) \\\n",
    "  .repeat()\n",
    "print(dataset_train)"
   ]
  },
  {
   "cell_type": "code",
   "execution_count": 18,
   "id": "eb49e655",
   "metadata": {
    "execution": {
     "iopub.execute_input": "2022-04-24T23:44:34.793882Z",
     "iopub.status.busy": "2022-04-24T23:44:34.793385Z",
     "iopub.status.idle": "2022-04-24T23:44:34.798828Z",
     "shell.execute_reply": "2022-04-24T23:44:34.799245Z",
     "shell.execute_reply.started": "2022-04-24T23:41:28.580532Z"
    },
    "papermill": {
     "duration": 0.037605,
     "end_time": "2022-04-24T23:44:34.799372",
     "exception": false,
     "start_time": "2022-04-24T23:44:34.761767",
     "status": "completed"
    },
    "tags": []
   },
   "outputs": [
    {
     "name": "stdout",
     "output_type": "stream",
     "text": [
      "EPOCHS:           3\n",
      "INITIAL_EPOCH:    1\n",
      "STEPS_PER_EPOCH:  23.4375\n"
     ]
    }
   ],
   "source": [
    "#const\n",
    "EPOCHS = 3 #5 seemed to work well\n",
    "INITIAL_EPOCH = 1\n",
    "STEPS_PER_EPOCH = len(allWorkoutsString) / BATCH_SIZE\n",
    "print('EPOCHS:          ', EPOCHS) \n",
    "print('INITIAL_EPOCH:   ', INITIAL_EPOCH)\n",
    "print('STEPS_PER_EPOCH: ', STEPS_PER_EPOCH) #default was 1500"
   ]
  },
  {
   "cell_type": "code",
   "execution_count": 19,
   "id": "fa8fa94b",
   "metadata": {
    "execution": {
     "iopub.execute_input": "2022-04-24T23:44:34.862274Z",
     "iopub.status.busy": "2022-04-24T23:44:34.861500Z",
     "iopub.status.idle": "2022-04-24T23:44:41.807069Z",
     "shell.execute_reply": "2022-04-24T23:44:41.806565Z",
     "shell.execute_reply.started": "2022-04-24T23:41:28.58979Z"
    },
    "papermill": {
     "duration": 6.978686,
     "end_time": "2022-04-24T23:44:41.807218",
     "exception": false,
     "start_time": "2022-04-24T23:44:34.828532",
     "status": "completed"
    },
    "tags": []
   },
   "outputs": [
    {
     "name": "stdout",
     "output_type": "stream",
     "text": [
      "Epoch 2/3\n"
     ]
    },
    {
     "name": "stderr",
     "output_type": "stream",
     "text": [
      "2022-04-24 23:44:36.087697: I tensorflow/compiler/mlir/mlir_graph_optimization_pass.cc:185] None of the MLIR Optimization Passes are enabled (registered 2)\n",
      "2022-04-24 23:44:37.518120: I tensorflow/stream_executor/cuda/cuda_dnn.cc:369] Loaded cuDNN version 8005\n"
     ]
    },
    {
     "name": "stdout",
     "output_type": "stream",
     "text": [
      "23/23 [==============================] - 4s 27ms/step - loss: 0.2261\n",
      "Epoch 3/3\n",
      "23/23 [==============================] - 1s 27ms/step - loss: 0.1806\n"
     ]
    }
   ],
   "source": [
    "history = model.fit(\n",
    "    x=dataset_train,\n",
    "    epochs=EPOCHS,\n",
    "    steps_per_epoch=STEPS_PER_EPOCH,\n",
    "    initial_epoch=INITIAL_EPOCH,\n",
    "    callbacks=[\n",
    "        checkpoint_callback,\n",
    "        #tqdm_callback\n",
    "       # early_stopping_callback #we want to overfit this so get rid of early stopping\n",
    "    ]\n",
    ")\n",
    "\n",
    "model.save(\"new/baselineModel.h5\")"
   ]
  },
  {
   "cell_type": "code",
   "execution_count": 20,
   "id": "cca5b57b",
   "metadata": {
    "execution": {
     "iopub.execute_input": "2022-04-24T23:44:41.888166Z",
     "iopub.status.busy": "2022-04-24T23:44:41.887310Z",
     "iopub.status.idle": "2022-04-24T23:44:41.889890Z",
     "shell.execute_reply": "2022-04-24T23:44:41.889467Z",
     "shell.execute_reply.started": "2022-04-24T23:41:34.975044Z"
    },
    "papermill": {
     "duration": 0.04617,
     "end_time": "2022-04-24T23:44:41.889993",
     "exception": false,
     "start_time": "2022-04-24T23:44:41.843823",
     "status": "completed"
    },
    "tags": []
   },
   "outputs": [],
   "source": [
    "def generate_text(model, start_string, num_generate = 1000, temperature=1.0):\n",
    "    # Evaluation step (generating text using the learned model)\n",
    "\n",
    "    padded_start_string = start_string\n",
    "    # Converting our start string to numbers (vectorizing).\n",
    "    input_indices = np.array(tokenizer.texts_to_sequences([padded_start_string]))\n",
    "    # Empty string to store our results.\n",
    "    text_generated = []\n",
    "    # Here batch size == 1.\n",
    "   # model.reset_states()\n",
    "    for char_index in range(num_generate):\n",
    "        predictions = model(input_indices)\n",
    "        # remove the batch dimension\n",
    "        predictions = tf.squeeze(predictions, 0)\n",
    "        # Using a categorical distribution to predict the character returned by the model.\n",
    "        predictions = predictions / temperature\n",
    "        predicted_id = tf.random.categorical(\n",
    "            predictions,\n",
    "            num_samples=1\n",
    "        )[-1, 0].numpy()\n",
    "        # We pass the predicted character as the next input to the model\n",
    "        # along with the previous hidden state.\n",
    "        input_indices = tf.expand_dims([predicted_id], 0)\n",
    "\n",
    "        next_character = tokenizer.sequences_to_texts(input_indices.numpy())[0]\n",
    "        text_generated.append(next_character)\n",
    "\n",
    "       # output = ''.join(text_generated)\n",
    "\n",
    "       # output = decodeWorkout(output)\n",
    "\n",
    "    return (padded_start_string + ''.join(text_generated))"
   ]
  },
  {
   "cell_type": "code",
   "execution_count": 21,
   "id": "87b2d91d",
   "metadata": {
    "execution": {
     "iopub.execute_input": "2022-04-24T23:44:41.968833Z",
     "iopub.status.busy": "2022-04-24T23:44:41.968018Z",
     "iopub.status.idle": "2022-04-24T23:44:42.197421Z",
     "shell.execute_reply": "2022-04-24T23:44:42.196916Z",
     "shell.execute_reply.started": "2022-04-24T23:41:34.984367Z"
    },
    "papermill": {
     "duration": 0.271831,
     "end_time": "2022-04-24T23:44:42.197566",
     "exception": false,
     "start_time": "2022-04-24T23:44:41.925735",
     "status": "completed"
    },
    "tags": []
   },
   "outputs": [
    {
     "name": "stdout",
     "output_type": "stream",
     "text": [
      "Model: \"sequential\"\n",
      "_________________________________________________________________\n",
      "Layer (type)                 Output Shape              Param #   \n",
      "=================================================================\n",
      "embedding (Embedding)        (1, None, 256)            4352      \n",
      "_________________________________________________________________\n",
      "lstm (LSTM)                  (1, None, 1024)           5246976   \n",
      "_________________________________________________________________\n",
      "dense (Dense)                (1, None, 17)             17425     \n",
      "=================================================================\n",
      "Total params: 5,268,753\n",
      "Trainable params: 5,268,753\n",
      "Non-trainable params: 0\n",
      "_________________________________________________________________\n"
     ]
    }
   ],
   "source": [
    "vocab_size=VOCABULARY_SIZE\n",
    "embedding_dim=256\n",
    "rnn_units=1024\n",
    "\n",
    "simplified_batch_size = 1\n",
    "model_simplified = build_model(vocab_size, embedding_dim, rnn_units, simplified_batch_size)\n",
    "model_simplified.load_weights(tf.train.latest_checkpoint(checkpoint_dir))\n",
    "model_simplified.build(tf.TensorShape([simplified_batch_size, None]))\n",
    "model_simplified.summary()\n",
    "#nonTrainedModel = keras.models.load_model(\"../input/lstmfile/simplified_model.h5\")"
   ]
  },
  {
   "cell_type": "code",
   "execution_count": 22,
   "id": "79515eb6",
   "metadata": {
    "execution": {
     "iopub.execute_input": "2022-04-24T23:44:42.275349Z",
     "iopub.status.busy": "2022-04-24T23:44:42.274636Z",
     "iopub.status.idle": "2022-04-24T23:44:42.486709Z",
     "shell.execute_reply": "2022-04-24T23:44:42.487111Z",
     "shell.execute_reply.started": "2022-04-24T23:41:35.229439Z"
    },
    "papermill": {
     "duration": 0.25336,
     "end_time": "2022-04-24T23:44:42.487247",
     "exception": false,
     "start_time": "2022-04-24T23:44:42.233887",
     "status": "completed"
    },
    "tags": []
   },
   "outputs": [
    {
     "name": "stdout",
     "output_type": "stream",
     "text": [
      "5-DL:~74~25~3~46~50~7~72~75~0~24~25~42~␣\n",
      "5-DL:\n",
      "74 pushups for 25 seconds with 3 second rest \n",
      "46 situps for 50 seconds with 7 second rest \n",
      "72 squats for 75 seconds with 0 second rest \n",
      "24 burpees for 25 seconds with 42 second rest \n"
     ]
    }
   ],
   "source": [
    "output = (generate_text(model_simplified, '5-DL:', num_generate = maxLength, temperature=1.0)) #make sure you pass it model_simplified\n",
    "print(output)\n",
    "print(decodeWorkout(output))\n",
    "\n",
    "#allWorkoutsString.append(\"5-DL:~60~50~28~14~15~17~15~15~36~34~35~5~␣\")\n",
    "#allWorkoutsString.append(\"5-DL:~40~30~6~10~10~5~44~45~6~41~45~16~␣\")\n",
    "#allWorkoutsString.append(\"5-DL:~75~65~9~24~25~45~41~45~34~72~80~0~␣\")\n",
    "#allWorkoutsString.append(\"5-DL:~85~70~0~55~55~3~33~35~23~30~30~34~␣\")\n",
    "#allWorkoutsString.append(\"5-DL:~60~50~22~68~75~4~63~70~6~14~15~33~␣\")"
   ]
  },
  {
   "cell_type": "code",
   "execution_count": 23,
   "id": "0384eeeb",
   "metadata": {
    "execution": {
     "iopub.execute_input": "2022-04-24T23:44:42.569844Z",
     "iopub.status.busy": "2022-04-24T23:44:42.566935Z",
     "iopub.status.idle": "2022-04-24T23:44:42.777194Z",
     "shell.execute_reply": "2022-04-24T23:44:42.777626Z",
     "shell.execute_reply.started": "2022-04-24T23:41:35.473452Z"
    },
    "papermill": {
     "duration": 0.251771,
     "end_time": "2022-04-24T23:44:42.777771",
     "exception": false,
     "start_time": "2022-04-24T23:44:42.526000",
     "status": "completed"
    },
    "tags": []
   },
   "outputs": [
    {
     "name": "stdout",
     "output_type": "stream",
     "text": [
      "4-DL:~224~80~0~11~15~37~57~75~3~40~50~8~␣\n",
      "4-DL:\n",
      "224 pushups for 80 seconds with 0 second rest \n",
      "11 situps for 15 seconds with 37 second rest \n",
      "57 squats for 75 seconds with 3 second rest \n",
      "40 burpees for 50 seconds with 8 second rest \n"
     ]
    }
   ],
   "source": [
    "output = (generate_text(model_simplified, '4-DL:', num_generate = 43, temperature=1.0)) #make sure you pass it model_simplified\n",
    "print(output)\n",
    "print(decodeWorkout(output))"
   ]
  },
  {
   "cell_type": "code",
   "execution_count": 24,
   "id": "4076d15b",
   "metadata": {
    "execution": {
     "iopub.execute_input": "2022-04-24T23:44:42.864276Z",
     "iopub.status.busy": "2022-04-24T23:44:42.863152Z",
     "iopub.status.idle": "2022-04-24T23:44:43.089460Z",
     "shell.execute_reply": "2022-04-24T23:44:43.088933Z",
     "shell.execute_reply.started": "2022-04-24T23:41:35.683895Z"
    },
    "papermill": {
     "duration": 0.270095,
     "end_time": "2022-04-24T23:44:43.089662",
     "exception": false,
     "start_time": "2022-04-24T23:44:42.819567",
     "status": "completed"
    },
    "tags": []
   },
   "outputs": [
    {
     "name": "stdout",
     "output_type": "stream",
     "text": [
      "3-DL:~166~65~0~11~20~49~12~20~1~32~55~3~␣\n",
      "3-DL:\n",
      "166 pushups for 65 seconds with 0 second rest \n",
      "11 situps for 20 seconds with 49 second rest \n",
      "12 squats for 20 seconds with 1 second rest \n",
      "32 burpees for 55 seconds with 3 second rest \n"
     ]
    }
   ],
   "source": [
    "output = (generate_text(model_simplified, '3-DL:', num_generate = maxLength, temperature=1.0)) #make sure you pass it model_simplified\n",
    "print(output)\n",
    "print(decodeWorkout(output))\n"
   ]
  },
  {
   "cell_type": "code",
   "execution_count": 25,
   "id": "5f431e6c",
   "metadata": {
    "execution": {
     "iopub.execute_input": "2022-04-24T23:44:43.185116Z",
     "iopub.status.busy": "2022-04-24T23:44:43.184160Z",
     "iopub.status.idle": "2022-04-24T23:44:43.406708Z",
     "shell.execute_reply": "2022-04-24T23:44:43.405896Z",
     "shell.execute_reply.started": "2022-04-24T23:41:35.892365Z"
    },
    "papermill": {
     "duration": 0.269527,
     "end_time": "2022-04-24T23:44:43.406833",
     "exception": false,
     "start_time": "2022-04-24T23:44:43.137306",
     "status": "completed"
    },
    "tags": []
   },
   "outputs": [
    {
     "name": "stdout",
     "output_type": "stream",
     "text": [
      "2-DL:~167~70~8~19~55~15~14~35~3~24~75~3~␣\n",
      "2-DL:\n",
      "167 pushups for 70 seconds with 8 second rest \n",
      "19 situps for 55 seconds with 15 second rest \n",
      "14 squats for 35 seconds with 3 second rest \n",
      "24 burpees for 75 seconds with 3 second rest \n"
     ]
    }
   ],
   "source": [
    "output = (generate_text(model_simplified, '2-DL:', num_generate = maxLength, temperature=1.0)) #make sure you pass it model_simplified\n",
    "print(output)\n",
    "print(decodeWorkout(output))"
   ]
  },
  {
   "cell_type": "code",
   "execution_count": 26,
   "id": "e71f3251",
   "metadata": {
    "execution": {
     "iopub.execute_input": "2022-04-24T23:44:43.496782Z",
     "iopub.status.busy": "2022-04-24T23:44:43.495961Z",
     "iopub.status.idle": "2022-04-24T23:44:43.726172Z",
     "shell.execute_reply": "2022-04-24T23:44:43.726784Z",
     "shell.execute_reply.started": "2022-04-24T23:41:36.097456Z"
    },
    "papermill": {
     "duration": 0.277429,
     "end_time": "2022-04-24T23:44:43.726970",
     "exception": false,
     "start_time": "2022-04-24T23:44:43.449541",
     "status": "completed"
    },
    "tags": []
   },
   "outputs": [
    {
     "name": "stdout",
     "output_type": "stream",
     "text": [
      "1-DL:~42~20~54~4~25~22~15~75~3~5~25~12~␣\n",
      "1-DL:\n",
      "42 pushups for 20 seconds with 54 second rest \n",
      "4 situps for 25 seconds with 22 second rest \n",
      "15 squats for 75 seconds with 3 second rest \n",
      "5 burpees for 25 seconds with 12 second rest \n"
     ]
    }
   ],
   "source": [
    "output = (generate_text(model_simplified, '1-DL:', num_generate = maxLength, temperature=1.0)) #make sure you pass it model_simplified\n",
    "print(output)\n",
    "print(decodeWorkout(output))"
   ]
  },
  {
   "cell_type": "code",
   "execution_count": 27,
   "id": "d1598620",
   "metadata": {
    "execution": {
     "iopub.execute_input": "2022-04-24T23:44:43.818278Z",
     "iopub.status.busy": "2022-04-24T23:44:43.817479Z",
     "iopub.status.idle": "2022-04-24T23:44:43.876313Z",
     "shell.execute_reply": "2022-04-24T23:44:43.875730Z",
     "shell.execute_reply.started": "2022-04-24T23:41:36.301388Z"
    },
    "papermill": {
     "duration": 0.10615,
     "end_time": "2022-04-24T23:44:43.876439",
     "exception": false,
     "start_time": "2022-04-24T23:44:43.770289",
     "status": "completed"
    },
    "tags": []
   },
   "outputs": [],
   "source": [
    "import shutil\n",
    "\n",
    "shutil.rmtree('/tmp')\n",
    "\n",
    "model_simplified.save(\"simplified_modelMOD.h5\")"
   ]
  },
  {
   "cell_type": "code",
   "execution_count": null,
   "id": "12bc4b8f",
   "metadata": {
    "papermill": {
     "duration": 0.04262,
     "end_time": "2022-04-24T23:44:43.962872",
     "exception": false,
     "start_time": "2022-04-24T23:44:43.920252",
     "status": "completed"
    },
    "tags": []
   },
   "outputs": [],
   "source": []
  }
 ],
 "metadata": {
  "kernelspec": {
   "display_name": "Python 3",
   "language": "python",
   "name": "python3"
  },
  "language_info": {
   "codemirror_mode": {
    "name": "ipython",
    "version": 3
   },
   "file_extension": ".py",
   "mimetype": "text/x-python",
   "name": "python",
   "nbconvert_exporter": "python",
   "pygments_lexer": "ipython3",
   "version": "3.7.12"
  },
  "papermill": {
   "default_parameters": {},
   "duration": 32.262838,
   "end_time": "2022-04-24T23:44:47.277750",
   "environment_variables": {},
   "exception": null,
   "input_path": "__notebook__.ipynb",
   "output_path": "__notebook__.ipynb",
   "parameters": {},
   "start_time": "2022-04-24T23:44:15.014912",
   "version": "2.3.3"
  }
 },
 "nbformat": 4,
 "nbformat_minor": 5
}
